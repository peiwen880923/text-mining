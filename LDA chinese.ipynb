{
  "nbformat": 4,
  "nbformat_minor": 0,
  "metadata": {
    "colab": {
      "name": "Untitled10.ipynb",
      "provenance": [],
      "authorship_tag": "ABX9TyPxrHIe0DoVlKiezihQ+QQM",
      "include_colab_link": true
    },
    "kernelspec": {
      "name": "python3",
      "display_name": "Python 3"
    },
    "language_info": {
      "name": "python"
    }
  },
  "cells": [
    {
      "cell_type": "markdown",
      "metadata": {
        "id": "view-in-github",
        "colab_type": "text"
      },
      "source": [
        "<a href=\"https://colab.research.google.com/github/peiwen880923/text-mining/blob/main/LDA%E4%B8%AD%E6%96%87%E7%AF%84%E4%BE%8B.ipynb\" target=\"_parent\"><img src=\"https://colab.research.google.com/assets/colab-badge.svg\" alt=\"Open In Colab\"/></a>"
      ]
    },
    {
      "cell_type": "code",
      "metadata": {
        "colab": {
          "base_uri": "https://localhost:8080/"
        },
        "id": "dx2voqQm3RBC",
        "outputId": "b91f26a5-bb3d-4850-b954-37ae120ded6a"
      },
      "source": [
        "pip install jieba"
      ],
      "execution_count": 1,
      "outputs": [
        {
          "output_type": "stream",
          "name": "stdout",
          "text": [
            "Requirement already satisfied: jieba in /usr/local/lib/python3.7/dist-packages (0.42.1)\n"
          ]
        }
      ]
    },
    {
      "cell_type": "code",
      "metadata": {
        "colab": {
          "base_uri": "https://localhost:8080/",
          "height": 996
        },
        "id": "SjCNX81x4eZq",
        "outputId": "8ec375ed-05bb-49e0-94de-546162f23c9f"
      },
      "source": [
        "pip install pyldavis"
      ],
      "execution_count": 5,
      "outputs": [
        {
          "output_type": "stream",
          "name": "stdout",
          "text": [
            "Collecting pyldavis\n",
            "  Downloading pyLDAvis-3.3.1.tar.gz (1.7 MB)\n",
            "\u001b[?25l\r\u001b[K     |▏                               | 10 kB 22.3 MB/s eta 0:00:01\r\u001b[K     |▍                               | 20 kB 26.9 MB/s eta 0:00:01\r\u001b[K     |▋                               | 30 kB 12.7 MB/s eta 0:00:01\r\u001b[K     |▉                               | 40 kB 9.6 MB/s eta 0:00:01\r\u001b[K     |█                               | 51 kB 5.2 MB/s eta 0:00:01\r\u001b[K     |█▏                              | 61 kB 5.8 MB/s eta 0:00:01\r\u001b[K     |█▍                              | 71 kB 5.6 MB/s eta 0:00:01\r\u001b[K     |█▋                              | 81 kB 6.3 MB/s eta 0:00:01\r\u001b[K     |█▉                              | 92 kB 4.7 MB/s eta 0:00:01\r\u001b[K     |██                              | 102 kB 5.1 MB/s eta 0:00:01\r\u001b[K     |██▏                             | 112 kB 5.1 MB/s eta 0:00:01\r\u001b[K     |██▍                             | 122 kB 5.1 MB/s eta 0:00:01\r\u001b[K     |██▋                             | 133 kB 5.1 MB/s eta 0:00:01\r\u001b[K     |██▊                             | 143 kB 5.1 MB/s eta 0:00:01\r\u001b[K     |███                             | 153 kB 5.1 MB/s eta 0:00:01\r\u001b[K     |███▏                            | 163 kB 5.1 MB/s eta 0:00:01\r\u001b[K     |███▍                            | 174 kB 5.1 MB/s eta 0:00:01\r\u001b[K     |███▋                            | 184 kB 5.1 MB/s eta 0:00:01\r\u001b[K     |███▊                            | 194 kB 5.1 MB/s eta 0:00:01\r\u001b[K     |████                            | 204 kB 5.1 MB/s eta 0:00:01\r\u001b[K     |████▏                           | 215 kB 5.1 MB/s eta 0:00:01\r\u001b[K     |████▍                           | 225 kB 5.1 MB/s eta 0:00:01\r\u001b[K     |████▋                           | 235 kB 5.1 MB/s eta 0:00:01\r\u001b[K     |████▊                           | 245 kB 5.1 MB/s eta 0:00:01\r\u001b[K     |█████                           | 256 kB 5.1 MB/s eta 0:00:01\r\u001b[K     |█████▏                          | 266 kB 5.1 MB/s eta 0:00:01\r\u001b[K     |█████▍                          | 276 kB 5.1 MB/s eta 0:00:01\r\u001b[K     |█████▌                          | 286 kB 5.1 MB/s eta 0:00:01\r\u001b[K     |█████▊                          | 296 kB 5.1 MB/s eta 0:00:01\r\u001b[K     |██████                          | 307 kB 5.1 MB/s eta 0:00:01\r\u001b[K     |██████▏                         | 317 kB 5.1 MB/s eta 0:00:01\r\u001b[K     |██████▍                         | 327 kB 5.1 MB/s eta 0:00:01\r\u001b[K     |██████▌                         | 337 kB 5.1 MB/s eta 0:00:01\r\u001b[K     |██████▊                         | 348 kB 5.1 MB/s eta 0:00:01\r\u001b[K     |███████                         | 358 kB 5.1 MB/s eta 0:00:01\r\u001b[K     |███████▏                        | 368 kB 5.1 MB/s eta 0:00:01\r\u001b[K     |███████▎                        | 378 kB 5.1 MB/s eta 0:00:01\r\u001b[K     |███████▌                        | 389 kB 5.1 MB/s eta 0:00:01\r\u001b[K     |███████▊                        | 399 kB 5.1 MB/s eta 0:00:01\r\u001b[K     |████████                        | 409 kB 5.1 MB/s eta 0:00:01\r\u001b[K     |████████▏                       | 419 kB 5.1 MB/s eta 0:00:01\r\u001b[K     |████████▎                       | 430 kB 5.1 MB/s eta 0:00:01\r\u001b[K     |████████▌                       | 440 kB 5.1 MB/s eta 0:00:01\r\u001b[K     |████████▊                       | 450 kB 5.1 MB/s eta 0:00:01\r\u001b[K     |█████████                       | 460 kB 5.1 MB/s eta 0:00:01\r\u001b[K     |█████████▏                      | 471 kB 5.1 MB/s eta 0:00:01\r\u001b[K     |█████████▎                      | 481 kB 5.1 MB/s eta 0:00:01\r\u001b[K     |█████████▌                      | 491 kB 5.1 MB/s eta 0:00:01\r\u001b[K     |█████████▊                      | 501 kB 5.1 MB/s eta 0:00:01\r\u001b[K     |██████████                      | 512 kB 5.1 MB/s eta 0:00:01\r\u001b[K     |██████████                      | 522 kB 5.1 MB/s eta 0:00:01\r\u001b[K     |██████████▎                     | 532 kB 5.1 MB/s eta 0:00:01\r\u001b[K     |██████████▌                     | 542 kB 5.1 MB/s eta 0:00:01\r\u001b[K     |██████████▊                     | 552 kB 5.1 MB/s eta 0:00:01\r\u001b[K     |███████████                     | 563 kB 5.1 MB/s eta 0:00:01\r\u001b[K     |███████████                     | 573 kB 5.1 MB/s eta 0:00:01\r\u001b[K     |███████████▎                    | 583 kB 5.1 MB/s eta 0:00:01\r\u001b[K     |███████████▌                    | 593 kB 5.1 MB/s eta 0:00:01\r\u001b[K     |███████████▊                    | 604 kB 5.1 MB/s eta 0:00:01\r\u001b[K     |███████████▉                    | 614 kB 5.1 MB/s eta 0:00:01\r\u001b[K     |████████████                    | 624 kB 5.1 MB/s eta 0:00:01\r\u001b[K     |████████████▎                   | 634 kB 5.1 MB/s eta 0:00:01\r\u001b[K     |████████████▌                   | 645 kB 5.1 MB/s eta 0:00:01\r\u001b[K     |████████████▊                   | 655 kB 5.1 MB/s eta 0:00:01\r\u001b[K     |████████████▉                   | 665 kB 5.1 MB/s eta 0:00:01\r\u001b[K     |█████████████                   | 675 kB 5.1 MB/s eta 0:00:01\r\u001b[K     |█████████████▎                  | 686 kB 5.1 MB/s eta 0:00:01\r\u001b[K     |█████████████▌                  | 696 kB 5.1 MB/s eta 0:00:01\r\u001b[K     |█████████████▊                  | 706 kB 5.1 MB/s eta 0:00:01\r\u001b[K     |█████████████▉                  | 716 kB 5.1 MB/s eta 0:00:01\r\u001b[K     |██████████████                  | 727 kB 5.1 MB/s eta 0:00:01\r\u001b[K     |██████████████▎                 | 737 kB 5.1 MB/s eta 0:00:01\r\u001b[K     |██████████████▌                 | 747 kB 5.1 MB/s eta 0:00:01\r\u001b[K     |██████████████▋                 | 757 kB 5.1 MB/s eta 0:00:01\r\u001b[K     |██████████████▉                 | 768 kB 5.1 MB/s eta 0:00:01\r\u001b[K     |███████████████                 | 778 kB 5.1 MB/s eta 0:00:01\r\u001b[K     |███████████████▎                | 788 kB 5.1 MB/s eta 0:00:01\r\u001b[K     |███████████████▌                | 798 kB 5.1 MB/s eta 0:00:01\r\u001b[K     |███████████████▋                | 808 kB 5.1 MB/s eta 0:00:01\r\u001b[K     |███████████████▉                | 819 kB 5.1 MB/s eta 0:00:01\r\u001b[K     |████████████████                | 829 kB 5.1 MB/s eta 0:00:01\r\u001b[K     |████████████████▎               | 839 kB 5.1 MB/s eta 0:00:01\r\u001b[K     |████████████████▍               | 849 kB 5.1 MB/s eta 0:00:01\r\u001b[K     |████████████████▋               | 860 kB 5.1 MB/s eta 0:00:01\r\u001b[K     |████████████████▉               | 870 kB 5.1 MB/s eta 0:00:01\r\u001b[K     |█████████████████               | 880 kB 5.1 MB/s eta 0:00:01\r\u001b[K     |█████████████████▎              | 890 kB 5.1 MB/s eta 0:00:01\r\u001b[K     |█████████████████▍              | 901 kB 5.1 MB/s eta 0:00:01\r\u001b[K     |█████████████████▋              | 911 kB 5.1 MB/s eta 0:00:01\r\u001b[K     |█████████████████▉              | 921 kB 5.1 MB/s eta 0:00:01\r\u001b[K     |██████████████████              | 931 kB 5.1 MB/s eta 0:00:01\r\u001b[K     |██████████████████▎             | 942 kB 5.1 MB/s eta 0:00:01\r\u001b[K     |██████████████████▍             | 952 kB 5.1 MB/s eta 0:00:01\r\u001b[K     |██████████████████▋             | 962 kB 5.1 MB/s eta 0:00:01\r\u001b[K     |██████████████████▉             | 972 kB 5.1 MB/s eta 0:00:01\r\u001b[K     |███████████████████             | 983 kB 5.1 MB/s eta 0:00:01\r\u001b[K     |███████████████████▏            | 993 kB 5.1 MB/s eta 0:00:01\r\u001b[K     |███████████████████▍            | 1.0 MB 5.1 MB/s eta 0:00:01\r\u001b[K     |███████████████████▋            | 1.0 MB 5.1 MB/s eta 0:00:01\r\u001b[K     |███████████████████▉            | 1.0 MB 5.1 MB/s eta 0:00:01\r\u001b[K     |████████████████████            | 1.0 MB 5.1 MB/s eta 0:00:01\r\u001b[K     |████████████████████▏           | 1.0 MB 5.1 MB/s eta 0:00:01\r\u001b[K     |████████████████████▍           | 1.1 MB 5.1 MB/s eta 0:00:01\r\u001b[K     |████████████████████▋           | 1.1 MB 5.1 MB/s eta 0:00:01\r\u001b[K     |████████████████████▉           | 1.1 MB 5.1 MB/s eta 0:00:01\r\u001b[K     |█████████████████████           | 1.1 MB 5.1 MB/s eta 0:00:01\r\u001b[K     |█████████████████████▏          | 1.1 MB 5.1 MB/s eta 0:00:01\r\u001b[K     |█████████████████████▍          | 1.1 MB 5.1 MB/s eta 0:00:01\r\u001b[K     |█████████████████████▋          | 1.1 MB 5.1 MB/s eta 0:00:01\r\u001b[K     |█████████████████████▉          | 1.1 MB 5.1 MB/s eta 0:00:01\r\u001b[K     |██████████████████████          | 1.1 MB 5.1 MB/s eta 0:00:01\r\u001b[K     |██████████████████████▏         | 1.1 MB 5.1 MB/s eta 0:00:01\r\u001b[K     |██████████████████████▍         | 1.2 MB 5.1 MB/s eta 0:00:01\r\u001b[K     |██████████████████████▋         | 1.2 MB 5.1 MB/s eta 0:00:01\r\u001b[K     |██████████████████████▉         | 1.2 MB 5.1 MB/s eta 0:00:01\r\u001b[K     |███████████████████████         | 1.2 MB 5.1 MB/s eta 0:00:01\r\u001b[K     |███████████████████████▏        | 1.2 MB 5.1 MB/s eta 0:00:01\r\u001b[K     |███████████████████████▍        | 1.2 MB 5.1 MB/s eta 0:00:01\r\u001b[K     |███████████████████████▋        | 1.2 MB 5.1 MB/s eta 0:00:01\r\u001b[K     |███████████████████████▊        | 1.2 MB 5.1 MB/s eta 0:00:01\r\u001b[K     |████████████████████████        | 1.2 MB 5.1 MB/s eta 0:00:01\r\u001b[K     |████████████████████████▏       | 1.2 MB 5.1 MB/s eta 0:00:01\r\u001b[K     |████████████████████████▍       | 1.3 MB 5.1 MB/s eta 0:00:01\r\u001b[K     |████████████████████████▋       | 1.3 MB 5.1 MB/s eta 0:00:01\r\u001b[K     |████████████████████████▊       | 1.3 MB 5.1 MB/s eta 0:00:01\r\u001b[K     |█████████████████████████       | 1.3 MB 5.1 MB/s eta 0:00:01\r\u001b[K     |█████████████████████████▏      | 1.3 MB 5.1 MB/s eta 0:00:01\r\u001b[K     |█████████████████████████▍      | 1.3 MB 5.1 MB/s eta 0:00:01\r\u001b[K     |█████████████████████████▌      | 1.3 MB 5.1 MB/s eta 0:00:01\r\u001b[K     |█████████████████████████▊      | 1.3 MB 5.1 MB/s eta 0:00:01\r\u001b[K     |██████████████████████████      | 1.3 MB 5.1 MB/s eta 0:00:01\r\u001b[K     |██████████████████████████▏     | 1.4 MB 5.1 MB/s eta 0:00:01\r\u001b[K     |██████████████████████████▍     | 1.4 MB 5.1 MB/s eta 0:00:01\r\u001b[K     |██████████████████████████▌     | 1.4 MB 5.1 MB/s eta 0:00:01\r\u001b[K     |██████████████████████████▊     | 1.4 MB 5.1 MB/s eta 0:00:01\r\u001b[K     |███████████████████████████     | 1.4 MB 5.1 MB/s eta 0:00:01\r\u001b[K     |███████████████████████████▏    | 1.4 MB 5.1 MB/s eta 0:00:01\r\u001b[K     |███████████████████████████▍    | 1.4 MB 5.1 MB/s eta 0:00:01\r\u001b[K     |███████████████████████████▌    | 1.4 MB 5.1 MB/s eta 0:00:01\r\u001b[K     |███████████████████████████▊    | 1.4 MB 5.1 MB/s eta 0:00:01\r\u001b[K     |████████████████████████████    | 1.4 MB 5.1 MB/s eta 0:00:01\r\u001b[K     |████████████████████████████▏   | 1.5 MB 5.1 MB/s eta 0:00:01\r\u001b[K     |████████████████████████████▎   | 1.5 MB 5.1 MB/s eta 0:00:01\r\u001b[K     |████████████████████████████▌   | 1.5 MB 5.1 MB/s eta 0:00:01\r\u001b[K     |████████████████████████████▊   | 1.5 MB 5.1 MB/s eta 0:00:01\r\u001b[K     |█████████████████████████████   | 1.5 MB 5.1 MB/s eta 0:00:01\r\u001b[K     |█████████████████████████████▏  | 1.5 MB 5.1 MB/s eta 0:00:01\r\u001b[K     |█████████████████████████████▎  | 1.5 MB 5.1 MB/s eta 0:00:01\r\u001b[K     |█████████████████████████████▌  | 1.5 MB 5.1 MB/s eta 0:00:01\r\u001b[K     |█████████████████████████████▊  | 1.5 MB 5.1 MB/s eta 0:00:01\r\u001b[K     |██████████████████████████████  | 1.5 MB 5.1 MB/s eta 0:00:01\r\u001b[K     |██████████████████████████████▏ | 1.6 MB 5.1 MB/s eta 0:00:01\r\u001b[K     |██████████████████████████████▎ | 1.6 MB 5.1 MB/s eta 0:00:01\r\u001b[K     |██████████████████████████████▌ | 1.6 MB 5.1 MB/s eta 0:00:01\r\u001b[K     |██████████████████████████████▊ | 1.6 MB 5.1 MB/s eta 0:00:01\r\u001b[K     |███████████████████████████████ | 1.6 MB 5.1 MB/s eta 0:00:01\r\u001b[K     |███████████████████████████████ | 1.6 MB 5.1 MB/s eta 0:00:01\r\u001b[K     |███████████████████████████████▎| 1.6 MB 5.1 MB/s eta 0:00:01\r\u001b[K     |███████████████████████████████▌| 1.6 MB 5.1 MB/s eta 0:00:01\r\u001b[K     |███████████████████████████████▊| 1.6 MB 5.1 MB/s eta 0:00:01\r\u001b[K     |████████████████████████████████| 1.6 MB 5.1 MB/s eta 0:00:01\r\u001b[K     |████████████████████████████████| 1.7 MB 5.1 MB/s \n",
            "\u001b[?25h  Installing build dependencies ... \u001b[?25l\u001b[?25hdone\n",
            "  Getting requirements to build wheel ... \u001b[?25l\u001b[?25hdone\n",
            "  Installing backend dependencies ... \u001b[?25l\u001b[?25hdone\n",
            "    Preparing wheel metadata ... \u001b[?25l\u001b[?25hdone\n",
            "Requirement already satisfied: sklearn in /usr/local/lib/python3.7/dist-packages (from pyldavis) (0.0)\n",
            "Collecting numpy>=1.20.0\n",
            "  Downloading numpy-1.21.4-cp37-cp37m-manylinux_2_12_x86_64.manylinux2010_x86_64.whl (15.7 MB)\n",
            "\u001b[K     |████████████████████████████████| 15.7 MB 38.2 MB/s \n",
            "\u001b[?25hCollecting funcy\n",
            "  Downloading funcy-1.16-py2.py3-none-any.whl (32 kB)\n",
            "Requirement already satisfied: setuptools in /usr/local/lib/python3.7/dist-packages (from pyldavis) (57.4.0)\n",
            "Collecting pandas>=1.2.0\n",
            "  Downloading pandas-1.3.4-cp37-cp37m-manylinux_2_17_x86_64.manylinux2014_x86_64.whl (11.3 MB)\n",
            "\u001b[K     |████████████████████████████████| 11.3 MB 51.6 MB/s \n",
            "\u001b[?25hRequirement already satisfied: jinja2 in /usr/local/lib/python3.7/dist-packages (from pyldavis) (2.11.3)\n",
            "Requirement already satisfied: gensim in /usr/local/lib/python3.7/dist-packages (from pyldavis) (3.6.0)\n",
            "Requirement already satisfied: scipy in /usr/local/lib/python3.7/dist-packages (from pyldavis) (1.4.1)\n",
            "Requirement already satisfied: numexpr in /usr/local/lib/python3.7/dist-packages (from pyldavis) (2.7.3)\n",
            "Requirement already satisfied: future in /usr/local/lib/python3.7/dist-packages (from pyldavis) (0.16.0)\n",
            "Requirement already satisfied: joblib in /usr/local/lib/python3.7/dist-packages (from pyldavis) (1.1.0)\n",
            "Requirement already satisfied: scikit-learn in /usr/local/lib/python3.7/dist-packages (from pyldavis) (1.0.1)\n",
            "Requirement already satisfied: pytz>=2017.3 in /usr/local/lib/python3.7/dist-packages (from pandas>=1.2.0->pyldavis) (2018.9)\n",
            "Requirement already satisfied: python-dateutil>=2.7.3 in /usr/local/lib/python3.7/dist-packages (from pandas>=1.2.0->pyldavis) (2.8.2)\n",
            "Requirement already satisfied: six>=1.5 in /usr/local/lib/python3.7/dist-packages (from python-dateutil>=2.7.3->pandas>=1.2.0->pyldavis) (1.15.0)\n",
            "Requirement already satisfied: smart-open>=1.2.1 in /usr/local/lib/python3.7/dist-packages (from gensim->pyldavis) (5.2.1)\n",
            "Requirement already satisfied: MarkupSafe>=0.23 in /usr/local/lib/python3.7/dist-packages (from jinja2->pyldavis) (2.0.1)\n",
            "Requirement already satisfied: threadpoolctl>=2.0.0 in /usr/local/lib/python3.7/dist-packages (from scikit-learn->pyldavis) (3.0.0)\n",
            "Building wheels for collected packages: pyldavis\n",
            "  Building wheel for pyldavis (PEP 517) ... \u001b[?25l\u001b[?25hdone\n",
            "  Created wheel for pyldavis: filename=pyLDAvis-3.3.1-py2.py3-none-any.whl size=136897 sha256=f597e33a9ab7d2093bba1692193e527d715bcad1a685b55e3b0c54a603bba89a\n",
            "  Stored in directory: /root/.cache/pip/wheels/c9/21/f6/17bcf2667e8a68532ba2fbf6d5c72fdf4c7f7d9abfa4852d2f\n",
            "Successfully built pyldavis\n",
            "Installing collected packages: numpy, pandas, funcy, pyldavis\n",
            "  Attempting uninstall: numpy\n",
            "    Found existing installation: numpy 1.19.5\n",
            "    Uninstalling numpy-1.19.5:\n",
            "      Successfully uninstalled numpy-1.19.5\n",
            "  Attempting uninstall: pandas\n",
            "    Found existing installation: pandas 1.1.5\n",
            "    Uninstalling pandas-1.1.5:\n",
            "      Successfully uninstalled pandas-1.1.5\n",
            "\u001b[31mERROR: pip's dependency resolver does not currently take into account all the packages that are installed. This behaviour is the source of the following dependency conflicts.\n",
            "yellowbrick 1.3.post1 requires numpy<1.20,>=1.16.0, but you have numpy 1.21.4 which is incompatible.\n",
            "google-colab 1.0.0 requires pandas~=1.1.0; python_version >= \"3.0\", but you have pandas 1.3.4 which is incompatible.\n",
            "datascience 0.10.6 requires folium==0.2.1, but you have folium 0.8.3 which is incompatible.\n",
            "albumentations 0.1.12 requires imgaug<0.2.7,>=0.2.5, but you have imgaug 0.2.9 which is incompatible.\u001b[0m\n",
            "Successfully installed funcy-1.16 numpy-1.21.4 pandas-1.3.4 pyldavis-3.3.1\n"
          ]
        },
        {
          "output_type": "display_data",
          "data": {
            "application/vnd.colab-display-data+json": {
              "pip_warning": {
                "packages": [
                  "numpy",
                  "pandas"
                ]
              }
            }
          },
          "metadata": {}
        }
      ]
    },
    {
      "cell_type": "code",
      "metadata": {
        "colab": {
          "base_uri": "https://localhost:8080/",
          "height": 206
        },
        "id": "IahUF-vQ4huS",
        "outputId": "94d42896-088d-4157-b473-8e2c8bfbe33f"
      },
      "source": [
        "import pandas as pd\n",
        "df = pd.read_csv(\"datascience.csv\", encoding='gb18030')\n",
        "df.head()"
      ],
      "execution_count": 2,
      "outputs": [
        {
          "output_type": "execute_result",
          "data": {
            "text/html": [
              "<div>\n",
              "<style scoped>\n",
              "    .dataframe tbody tr th:only-of-type {\n",
              "        vertical-align: middle;\n",
              "    }\n",
              "\n",
              "    .dataframe tbody tr th {\n",
              "        vertical-align: top;\n",
              "    }\n",
              "\n",
              "    .dataframe thead th {\n",
              "        text-align: right;\n",
              "    }\n",
              "</style>\n",
              "<table border=\"1\" class=\"dataframe\">\n",
              "  <thead>\n",
              "    <tr style=\"text-align: right;\">\n",
              "      <th></th>\n",
              "      <th>title</th>\n",
              "      <th>author</th>\n",
              "      <th>content</th>\n",
              "    </tr>\n",
              "  </thead>\n",
              "  <tbody>\n",
              "    <tr>\n",
              "      <th>0</th>\n",
              "      <td>大数据产业迎政策暖风 最新大数据概念股一览</td>\n",
              "      <td>财经热点扒客</td>\n",
              "      <td>大数据产业发展受到国家重视，而大数据已经上升为国家战略，未来发展前景很广阔。大数据产业“十三...</td>\n",
              "    </tr>\n",
              "    <tr>\n",
              "      <th>1</th>\n",
              "      <td>Google发布机器学习平台Tensorflow游乐场～带你一起玩神经网络！</td>\n",
              "      <td>硅谷周边</td>\n",
              "      <td>点击上方“硅谷周边”关注我，收到最新的文章哦！昨天，Google发布了Tensorflow游...</td>\n",
              "    </tr>\n",
              "    <tr>\n",
              "      <th>2</th>\n",
              "      <td>李克强：中国大数据和云计算产业是开放的</td>\n",
              "      <td>苏州高新区金融办</td>\n",
              "      <td>国务院总理李克强当地时间20日上午在纽约下榻饭店同美国经济、金融、智库、媒体等各界人士座谈，...</td>\n",
              "    </tr>\n",
              "    <tr>\n",
              "      <th>3</th>\n",
              "      <td>全峰集团持续挖掘大数据</td>\n",
              "      <td>快递物流网</td>\n",
              "      <td>2016年，全峰集团持续挖掘大数据、云计算、“互联网+”等前沿技术和物流快递的融合，并通过优...</td>\n",
              "    </tr>\n",
              "    <tr>\n",
              "      <th>4</th>\n",
              "      <td>第366期【微理工】贵州理工学院召开大数据分析与应用专题分享会</td>\n",
              "      <td>贵州理工学院</td>\n",
              "      <td>贵州理工学院召开大数据分析与应用专题分享会 借“创响中国”贵安站巡回接力活动暨2016贵安大...</td>\n",
              "    </tr>\n",
              "  </tbody>\n",
              "</table>\n",
              "</div>"
            ],
            "text/plain": [
              "                                    title  ...                                            content\n",
              "0                   大数据产业迎政策暖风 最新大数据概念股一览  ...  大数据产业发展受到国家重视，而大数据已经上升为国家战略，未来发展前景很广阔。大数据产业“十三...\n",
              "1  Google发布机器学习平台Tensorflow游乐场～带你一起玩神经网络！  ...  点击上方“硅谷周边”关注我，收到最新的文章哦！昨天，Google发布了Tensorflow游...\n",
              "2                     李克强：中国大数据和云计算产业是开放的  ...  国务院总理李克强当地时间20日上午在纽约下榻饭店同美国经济、金融、智库、媒体等各界人士座谈，...\n",
              "3                             全峰集团持续挖掘大数据  ...  2016年，全峰集团持续挖掘大数据、云计算、“互联网+”等前沿技术和物流快递的融合，并通过优...\n",
              "4         第366期【微理工】贵州理工学院召开大数据分析与应用专题分享会  ...  贵州理工学院召开大数据分析与应用专题分享会 借“创响中国”贵安站巡回接力活动暨2016贵安大...\n",
              "\n",
              "[5 rows x 3 columns]"
            ]
          },
          "metadata": {},
          "execution_count": 2
        }
      ]
    },
    {
      "cell_type": "code",
      "metadata": {
        "colab": {
          "base_uri": "https://localhost:8080/"
        },
        "id": "cjnO6KeC4sQz",
        "outputId": "36fc84ec-cf9c-43c2-c0c4-4f5a2139c5c1"
      },
      "source": [
        "df.shape"
      ],
      "execution_count": 3,
      "outputs": [
        {
          "output_type": "execute_result",
          "data": {
            "text/plain": [
              "(1024, 3)"
            ]
          },
          "metadata": {},
          "execution_count": 3
        }
      ]
    },
    {
      "cell_type": "code",
      "metadata": {
        "id": "k3OD3UN94zvM"
      },
      "source": [
        "import jieba\n",
        "def chinese_word_cut(mytext):\n",
        "  return \" \".join(jieba.cut(mytext))"
      ],
      "execution_count": 5,
      "outputs": []
    },
    {
      "cell_type": "code",
      "metadata": {
        "colab": {
          "base_uri": "https://localhost:8080/"
        },
        "id": "n5mr4mV-47AA",
        "outputId": "29c67959-b8a0-4710-ac9b-23a64927eaa0"
      },
      "source": [
        "df[\"content_cutted\"] = df.content.apply(chinese_word_cut)\n"
      ],
      "execution_count": 6,
      "outputs": [
        {
          "output_type": "stream",
          "name": "stderr",
          "text": [
            "Building prefix dict from the default dictionary ...\n",
            "Dumping model to file cache /tmp/jieba.cache\n",
            "Loading model cost 1.055 seconds.\n",
            "Prefix dict has been built successfully.\n"
          ]
        }
      ]
    },
    {
      "cell_type": "code",
      "metadata": {
        "colab": {
          "base_uri": "https://localhost:8080/"
        },
        "id": "xU9w5pag49cC",
        "outputId": "ef6ae7b5-791a-4536-fa47-c690bb38e608"
      },
      "source": [
        "df.content_cutted.head()"
      ],
      "execution_count": 7,
      "outputs": [
        {
          "output_type": "execute_result",
          "data": {
            "text/plain": [
              "0    大 数据 产业 发展 受到 国家 重视 ， 而 大 数据 已经 上升 为 国家 战略 ， 未...\n",
              "1    点击 上方 “ 硅谷 周边 ” 关注 我 ， 收到 最新 的 文章 哦 ！ 昨天 ， Goo...\n",
              "2    国务院 总理 李克强 当地 时间 20 日 上午 在 纽约 下榻 饭店 同 美国 经济 、 ...\n",
              "3    2016 年 ， 全峰 集团 持续 挖掘 大 数据 、 云 计算 、 “ 互联网 + ” 等...\n",
              "4    贵州 理工学院 召开 大 数据分析 与 应用 专题 分享 会   借 “ 创响 中国 ” 贵...\n",
              "Name: content_cutted, dtype: object"
            ]
          },
          "metadata": {},
          "execution_count": 7
        }
      ]
    },
    {
      "cell_type": "code",
      "metadata": {
        "id": "45dCUUSO5CbK"
      },
      "source": [
        "from sklearn.feature_extraction.text import TfidfVectorizer, CountVectorizer\n",
        "n_features = 1000\n",
        "tf_vectorizer = CountVectorizer(strip_accents = 'unicode',\n",
        "max_features=n_features,\n",
        "stop_words='english',\n",
        "max_df = 0.5,\n",
        "min_df = 10)\n",
        "tf = tf_vectorizer.fit_transform(df.content_cutted)"
      ],
      "execution_count": 9,
      "outputs": []
    },
    {
      "cell_type": "code",
      "metadata": {
        "id": "Hiw7qIfe5Jtb"
      },
      "source": [
        "from sklearn.decomposition import LatentDirichletAllocation\n",
        "n_topics = 5\n",
        "lda = LatentDirichletAllocation(n_components=n_topics, max_iter=50,\n",
        "learning_method='online',\n",
        "learning_offset=50.,\n",
        "random_state=0)"
      ],
      "execution_count": 22,
      "outputs": []
    },
    {
      "cell_type": "code",
      "metadata": {
        "colab": {
          "base_uri": "https://localhost:8080/"
        },
        "id": "k4agRm4Z5fX6",
        "outputId": "b8f7d0e9-bd9b-4716-a3fe-fe642f68591d"
      },
      "source": [
        "lda.fit(tf)"
      ],
      "execution_count": 23,
      "outputs": [
        {
          "output_type": "execute_result",
          "data": {
            "text/plain": [
              "LatentDirichletAllocation(learning_method='online', learning_offset=50.0,\n",
              "                          max_iter=50, n_components=5, random_state=0)"
            ]
          },
          "metadata": {},
          "execution_count": 23
        }
      ]
    },
    {
      "cell_type": "code",
      "metadata": {
        "id": "ZFiO4Qvp6O1h"
      },
      "source": [
        "def print_top_words(model, feature_names, n_top_words):\n",
        "  for topic_idx, topic in enumerate(model.components_):\n",
        "    print(\"Topic #%d:\" % topic_idx)\n",
        "    print(\" \".join([feature_names[i]\n",
        "  for i in topic.argsort()[:-n_top_words - 1:-1]]))\n",
        "    print()"
      ],
      "execution_count": 25,
      "outputs": []
    },
    {
      "cell_type": "code",
      "metadata": {
        "colab": {
          "base_uri": "https://localhost:8080/"
        },
        "id": "nFk6pFgZ6RT7",
        "outputId": "9efe43d1-332a-496d-eaa2-02a258ac3b88"
      },
      "source": [
        "n_top_words = 20\n",
        "tf_feature_names = tf_vectorizer.get_feature_names()\n",
        "print_top_words(lda, tf_feature_names, n_top_words)"
      ],
      "execution_count": 26,
      "outputs": [
        {
          "output_type": "stream",
          "name": "stdout",
          "text": [
            "Topic #0:\n",
            "学习 模型 使用 算法 方法 机器 可视化 神经网络 特征 处理 不同 计算 用户 数据库 系统 如果 分类 训练 一种 基于\n",
            "\n",
            "Topic #1:\n",
            "这个 就是 可能 没有 如果 他们 自己 很多 什么 不是 但是 或者 因为 时候 这样 现在 电子 一些 所以 孩子\n",
            "\n",
            "Topic #2:\n",
            "企业 平台 服务 管理 互联网 数据分析 公司 产品 用户 业务 行业 客户 金融 创新 实现 价值 系统 能力 工作 需求\n",
            "\n",
            "Topic #3:\n",
            "中国 2016 市场 增长 10 城市 用户 2015 关注 行业 其中 30 人口 检索 阅读 大众 投资 全国 美国 20\n",
            "\n",
            "Topic #4:\n",
            "人工智能 学习 领域 智能 机器人 机器 人类 公司 深度 研究 未来 识别 已经 系统 计算机 目前 医疗 语音 方面 服务\n",
            "\n"
          ]
        },
        {
          "output_type": "stream",
          "name": "stderr",
          "text": [
            "/usr/local/lib/python3.7/dist-packages/sklearn/utils/deprecation.py:87: FutureWarning: Function get_feature_names is deprecated; get_feature_names is deprecated in 1.0 and will be removed in 1.2. Please use get_feature_names_out instead.\n",
            "  warnings.warn(msg, category=FutureWarning)\n"
          ]
        }
      ]
    },
    {
      "cell_type": "code",
      "metadata": {
        "colab": {
          "base_uri": "https://localhost:8080/",
          "height": 1000
        },
        "id": "8iuTn65o6gIq",
        "outputId": "40f735c5-20ca-4eb7-d4d6-d87ecae015cc"
      },
      "source": [
        "import pyLDAvis\n",
        "import pyLDAvis.sklearn\n",
        "pyLDAvis.enable_notebook()\n",
        "pyLDAvis.sklearn.prepare(lda, tf, tf_vectorizer)"
      ],
      "execution_count": 27,
      "outputs": [
        {
          "output_type": "stream",
          "name": "stderr",
          "text": [
            "/usr/local/lib/python3.7/dist-packages/past/types/oldstr.py:5: DeprecationWarning: Using or importing the ABCs from 'collections' instead of from 'collections.abc' is deprecated since Python 3.3,and in 3.9 it will stop working\n",
            "  from collections import Iterable\n",
            "/usr/local/lib/python3.7/dist-packages/past/builtins/misc.py:4: DeprecationWarning: Using or importing the ABCs from 'collections' instead of from 'collections.abc' is deprecated since Python 3.3,and in 3.9 it will stop working\n",
            "  from collections import Mapping\n",
            "/usr/local/lib/python3.7/dist-packages/sklearn/utils/deprecation.py:87: FutureWarning: Function get_feature_names is deprecated; get_feature_names is deprecated in 1.0 and will be removed in 1.2. Please use get_feature_names_out instead.\n",
            "  warnings.warn(msg, category=FutureWarning)\n",
            "/usr/local/lib/python3.7/dist-packages/pyLDAvis/_prepare.py:247: FutureWarning: In a future version of pandas all arguments of DataFrame.drop except for the argument 'labels' will be keyword-only\n",
            "  by='saliency', ascending=False).head(R).drop('saliency', 1)\n"
          ]
        },
        {
          "output_type": "execute_result",
          "data": {
            "text/html": [
              "\n",
              "<link rel=\"stylesheet\" type=\"text/css\" href=\"https://cdn.jsdelivr.net/gh/bmabey/pyLDAvis@3.3.1/pyLDAvis/js/ldavis.v1.0.0.css\">\n",
              "\n",
              "\n",
              "<div id=\"ldavis_el1731403366011477284769390382\"></div>\n",
              "<script type=\"text/javascript\">\n",
              "\n",
              "var ldavis_el1731403366011477284769390382_data = {\"mdsDat\": {\"x\": [0.1496347478164384, -0.10094167348535067, 0.12703681497495903, -0.0055104298449406355, -0.170219459461106], \"y\": [0.021450562966066528, 0.10218624382738381, -0.11252414172499005, 0.11844048657222808, -0.12955315164068854], \"topics\": [1, 2, 3, 4, 5], \"cluster\": [1, 1, 1, 1, 1], \"Freq\": [25.85207115915935, 25.79836170249775, 21.632325236086107, 14.625269466662758, 12.091972435594045]}, \"tinfo\": {\"Term\": [\"\\u4eba\\u5de5\\u667a\\u80fd\", \"\\u5b66\\u4e60\", \"\\u4f01\\u4e1a\", \"\\u673a\\u5668\", \"\\u667a\\u80fd\", \"\\u673a\\u5668\\u4eba\", \"\\u4e2d\\u56fd\", \"\\u9886\\u57df\", \"\\u4eba\\u7c7b\", \"\\u8fd9\\u4e2a\", \"\\u6a21\\u578b\", \"\\u7b97\\u6cd5\", \"2016\", \"\\u516c\\u53f8\", \"\\u7ba1\\u7406\", \"\\u5c31\\u662f\", \"\\u6df1\\u5ea6\", \"\\u5e02\\u573a\", \"\\u589e\\u957f\", \"\\u670d\\u52a1\", \"\\u57ce\\u5e02\", \"\\u5e73\\u53f0\", \"\\u4ec0\\u4e48\", \"10\", \"\\u4e1a\\u52a1\", \"\\u5982\\u679c\", \"\\u5f88\\u591a\", \"\\u884c\\u4e1a\", \"\\u5b69\\u5b50\", \"\\u7535\\u5b50\", \"\\u51fd\\u6570\", \"python\", \"sql\", \"\\u7d22\\u5f15\", \"hive\", \"\\u8bef\\u5dee\", \"learning\", \"\\u53d8\\u91cf\", \"apache\", \"\\u5411\\u91cf\", \"\\u53c2\\u6570\", \"\\u5e8f\\u5217\", \"\\u805a\\u7c7b\", \"\\u68af\\u5ea6\", \"\\u56fe\\u8868\", \"\\u56fe\\u5f62\", \"\\u51b3\\u7b56\\u6811\", \"\\u968f\\u673a\", \"\\u77e9\\u9635\", \"\\u8d1d\\u53f6\\u65af\", \"spark\", \"hadoop\", \"\\u7ebf\\u6027\", \"\\u6837\\u672c\", \"\\u8f93\\u5165\", \"\\u5e38\\u7528\", \"\\u56de\\u5f52\", \"\\u7f16\\u7801\", \"\\u6587\\u672c\", \"\\u8f93\\u51fa\", \"data\", \"\\u6a21\\u578b\", \"\\u8bad\\u7ec3\", \"\\u5206\\u7c7b\", \"\\u7b97\\u6cd5\", \"\\u7279\\u5f81\", \"\\u795e\\u7ecf\\u7f51\\u7edc\", \"\\u53ef\\u89c6\\u5316\", \"\\u65b9\\u6cd5\", \"\\u4f7f\\u7528\", \"\\u8bed\\u8a00\", \"\\u5b66\\u4e60\", \"\\u6570\\u636e\\u5e93\", \"\\u76d1\\u7763\", \"http\", \"\\u521b\\u5efa\", \"\\u67e5\\u8be2\", \"\\u4f8b\\u5982\", \"\\u7528\\u4e8e\", \"\\u673a\\u5668\", \"\\u5904\\u7406\", \"\\u5de5\\u5177\", \"\\u4e0d\\u540c\", \"\\u4e00\\u79cd\", \"\\u8ba1\\u7b97\", \"\\u4ecb\\u7ecd\", \"\\u7ed3\\u679c\", \"\\u9884\\u6d4b\", \"\\u5b58\\u50a8\", \"\\u57fa\\u4e8e\", \"\\u5982\\u679c\", \"\\u7528\\u6237\", \"\\u7cfb\\u7edf\", \"\\u7f51\\u7edc\", \"\\u6df1\\u5ea6\", \"\\u8fd9\\u4e2a\", \"\\u65b9\\u5f0f\", \"\\u6cbb\\u7406\", \"\\u6c14\\u8c61\", \"\\u4fe1\\u606f\\u5316\", \"\\u5efa\\u8bbe\", \"\\u4fe1\\u7528\", \"\\u8fd0\\u8425\", \"\\u5f81\\u4fe1\", \"\\u8425\\u9500\", \"\\u5f00\\u5c55\", \"\\u4fe1\\u606f\\u6280\\u672f\", \"\\u7ecf\\u8425\", \"\\u7ba1\\u7406\", \"\\u52a0\\u5f3a\", \"\\u4f53\\u7cfb\", \"\\u5171\\u4eab\", \"\\u4e1a\\u52a1\", \"\\u751f\\u6001\", \"\\u5ba2\\u6237\", \"\\u653f\\u5e9c\", \"\\u4f01\\u4e1a\", \"\\u76d1\\u7ba1\", \"\\u5b9e\\u65bd\", \"\\u79d1\\u7814\", \"\\u7cbe\\u51c6\", \"\\u4fc3\\u8fdb\", \"\\u91d1\\u878d\", \"\\u5f00\\u653e\", \"\\u5b8c\\u5584\", \"\\u63a8\\u8fdb\", \"\\u521b\\u65b0\", \"\\u5e73\\u53f0\", \"\\u667a\\u6167\", \"\\u670d\\u52a1\", \"\\u8d44\\u6e90\", \"\\u6570\\u636e\\u5206\\u6790\", \"\\u4e92\\u8054\\u7f51\", \"\\u5b89\\u5168\", \"\\u91c7\\u96c6\", \"\\u4ea7\\u54c1\", \"\\u6218\\u7565\", \"\\u4ef7\\u503c\", \"\\u884c\\u4e1a\", \"\\u751f\\u4ea7\", \"\\u5efa\\u7acb\", \"\\u9700\\u6c42\", \"\\u516c\\u53f8\", \"\\u4ea7\\u4e1a\", \"\\u7528\\u6237\", \"\\u80fd\\u529b\", \"\\u5b9e\\u73b0\", \"\\u9879\\u76ee\", \"\\u5de5\\u4f5c\", \"\\u7cfb\\u7edf\", \"\\u76f8\\u5173\", \"\\u9886\\u57df\", \"\\u5b69\\u5b50\", \"\\u5e94\\u5f53\", \"\\u8fd9\\u4e48\", \"\\u6709\\u4eba\", \"\\u89c9\\u5f97\", \"\\u771f\\u7684\", \"\\u7535\\u5b50\", \"\\u4e8b\\u60c5\", \"\\u5bb6\\u957f\", \"\\u4e0d\\u8981\", \"\\u4e1c\\u897f\", \"\\u4e3a\\u4ec0\\u4e48\", \"\\u600e\\u4e48\", \"\\u5176\\u5b9e\", \"\\u544a\\u8bc9\", \"\\u6bd4\\u5982\\u8bf4\", \"\\u65f6\\u5019\", \"\\u6240\\u4ee5\", \"\\u4ec0\\u4e48\", \"\\u77e5\\u9053\", \"\\u591a\\u5c11\", \"\\u68c0\\u67e5\", \"\\u8001\\u5e08\", \"\\u7684\\u8bdd\", \"\\u53d8\\u6210\", \"\\u81ea\\u5df1\", \"\\u5f53\\u7136\", \"\\u60a3\\u8005\", \"\\u4e0d\\u662f\", \"\\u56e0\\u4e3a\", \"\\u73b0\\u5728\", \"\\u4ed6\\u4eec\", \"\\u5f88\\u591a\", \"\\u8fd9\\u4e2a\", \"\\u5c31\\u662f\", \"\\u6ca1\\u6709\", \"\\u770b\\u5230\", \"\\u53ef\\u80fd\", \"\\u4f46\\u662f\", \"\\u5982\\u679c\", \"\\u6216\\u8005\", \"\\u8fd9\\u6837\", \"\\u5e94\\u8be5\", \"\\u5927\\u5bb6\", \"\\u90a3\\u4e48\", \"\\u8fd8\\u662f\", \"\\u4e00\\u4e9b\", \"\\u975e\\u5e38\", \"\\u6bd4\\u5982\", \"\\u53d1\\u73b0\", \"\\u5df2\\u7ecf\", \"\\u5de5\\u4f5c\", \"\\u60c5\\u51b5\", \"\\u65f6\\u95f4\", \"\\u4eba\\u5de5\\u667a\\u80fd\", \"\\u673a\\u5668\\u4eba\", \"ai\", \"\\u8bed\\u97f3\", \"\\u56fe\\u50cf\\u8bc6\\u522b\", \"\\u5fae\\u8f6f\", \"\\u4eba\\u7c7b\", \"\\u9a7e\\u9a76\", \"\\u8c37\\u6b4c\", \"\\u611f\\u77e5\", \"\\u6536\\u8d2d\", \"\\u5de8\\u5934\", \"\\u8ba4\\u77e5\", \"\\u5927\\u8111\", \"\\u667a\\u80fd\", \"\\u8f66\\u8f86\", \"\\u767e\\u5ea6\", \"ibm\", \"\\u6559\\u6388\", \"\\u4ebf\\u7f8e\\u5143\", \"\\u9769\\u547d\", \"facebook\", \"\\u4ee3\\u7406\", \"\\u81ea\\u7136\\u8bed\\u8a00\", \"\\u533b\\u7597\", \"\\u9886\\u57df\", \"\\u8bc6\\u522b\", \"\\u751f\\u7269\", \"\\u81ea\\u52a8\\u5316\", \"\\u8bca\\u65ad\", \"\\u8ba1\\u7b97\\u673a\", \"\\u6df1\\u5ea6\", \"\\u5de5\\u4e1a\", \"\\u673a\\u5668\", \"\\u672a\\u6765\", \"\\u5b66\\u4e60\", \"\\u516c\\u53f8\", \"\\u7814\\u53d1\", \"\\u7814\\u7a76\", \"\\u76ee\\u524d\", \"\\u5df2\\u7ecf\", \"\\u79d1\\u6280\", \"\\u7cfb\\u7edf\", \"\\u6295\\u8d44\", \"\\u65b9\\u9762\", \"\\u6210\\u4e3a\", \"\\u670d\\u52a1\", \"\\u80fd\\u591f\", \"\\u7b97\\u6cd5\", \"\\u80fd\\u529b\", \"\\u5b9e\\u73b0\", \"\\u540c\\u6bd4\", \"\\u6cd5\\u9662\", \"\\u4e13\\u5229\", \"00\", \"\\u4fe1\\u7528\\u5361\", \"18\", \"\\u6392\\u540d\", \"\\u6708\\u4efd\", \"\\u4ebf\\u5143\", \"\\u6295\\u8d44\\u8005\", \"17\", \"\\u5973\\u6027\", \"\\u5927\\u4f17\", \"\\u4eba\\u6570\", \"\\u4eba\\u53e3\", \"\\u6848\\u4ef6\", \"\\u65c5\\u6e38\", \"19\", \"16\", \"\\u68c0\\u7d22\", \"14\", \"\\u9500\\u91cf\", \"12\", \"\\u5168\\u56fd\", \"\\u671f\\u95f4\", \"15\", \"\\u7533\\u8bf7\", \"25\", \"\\u5730\\u533a\", \"\\u589e\\u957f\", \"2016\", \"30\", \"2015\", \"\\u57ce\\u5e02\", \"\\u4e2d\\u56fd\", \"10\", \"11\", \"\\u5e02\\u573a\", \"\\u5317\\u4eac\", \"\\u9605\\u8bfb\", \"\\u5206\\u522b\", \"20\", \"\\u5173\\u6ce8\", \"\\u8d85\\u8fc7\", \"\\u7528\\u6237\", \"\\u5176\\u4e2d\", \"\\u7f8e\\u56fd\", \"\\u6295\\u8d44\", \"\\u5fae\\u4fe1\", \"\\u884c\\u4e1a\", \"\\u6570\\u91cf\", \"\\u4e3b\\u8981\", \"\\u62a5\\u544a\"], \"Freq\": [2771.0, 4194.0, 3220.0, 2178.0, 1450.0, 1109.0, 1773.0, 2003.0, 1017.0, 2265.0, 1765.0, 1839.0, 1004.0, 2440.0, 1362.0, 1798.0, 1336.0, 1411.0, 814.0, 1748.0, 798.0, 1734.0, 1067.0, 979.0, 1121.0, 1663.0, 1239.0, 1589.0, 626.0, 727.0, 475.9905309557878, 267.94316487333396, 286.3973954368961, 168.64270252290368, 163.25143111951883, 157.41967505217843, 267.43842049373967, 332.5427018423095, 154.26911229092826, 299.09076410577194, 420.6455764013006, 175.98885843354296, 223.47351242978226, 171.90689278914985, 402.4396752098561, 182.41712885783022, 147.17753422069754, 181.08426800435143, 145.525321322243, 155.27641417118, 186.42437947161386, 388.6815967221309, 161.46729587360633, 403.52681367444404, 404.7034446252412, 163.59530278612047, 323.7262987370457, 151.7485499646257, 154.62420997881253, 279.98369212960375, 459.87585034365264, 1555.7334484670969, 587.3780505256508, 590.9085874473781, 1513.2162010135141, 752.4810676554072, 768.1316533626667, 828.1540183332181, 1154.1009228550258, 1522.2402950595304, 422.9401298052968, 2421.409481816509, 620.733893099016, 258.7618165738164, 328.78064417900544, 273.7259234000584, 330.05560253042444, 497.96299390844865, 437.87148993731813, 1091.6007176484072, 728.2123587423089, 553.0898677677941, 702.9927682077549, 555.5796385621715, 669.2265848600965, 410.6977007475701, 520.8374242027247, 549.440421540928, 453.66733585692606, 553.9603310936875, 596.5827719677676, 641.1056684498132, 596.964759526856, 499.95372725983736, 504.1458680223882, 535.793441926819, 470.759160624526, 190.52249226320782, 163.90965190689786, 394.1647260181665, 574.6126841024197, 231.08592987581588, 490.9728598935714, 135.40652837358974, 554.9101156836331, 291.3668585995064, 178.38984901641487, 196.77024766714106, 1254.2188448416152, 185.28936247182523, 409.80187240803866, 311.6159663532066, 1003.1469366132656, 193.92172499169908, 865.631368829094, 548.7264318443215, 2855.270223945644, 156.7144477738109, 248.17884591339438, 128.19035060230263, 376.62191283651305, 268.58918433471945, 861.7548136784648, 433.9601273266141, 199.54088720649548, 221.968003038517, 808.1814651955732, 1385.2502665237166, 412.9230008917359, 1323.9427482914646, 582.3083381815989, 1177.920918131512, 1208.7956378939323, 446.7524329837384, 574.4166323811968, 1112.889701351167, 332.8870396258344, 717.88489093538, 989.2752147593366, 373.18413412555077, 587.1277213458688, 623.0376664905632, 1116.5032049093113, 574.2272271063555, 1032.274348285948, 683.1619427343022, 728.6583716213235, 576.5608285756188, 658.6717993228232, 709.8829577313206, 558.9312389798512, 521.2482393394282, 625.5157294264272, 299.074733189693, 197.76452441925832, 143.0862540060716, 262.5294692820392, 145.8932356302374, 671.5415914644714, 309.8903820385168, 131.6792293828858, 218.35069031145818, 234.26626756320022, 288.65696039564256, 231.3451066531799, 367.85236645241946, 185.94456470229528, 122.02950746801667, 698.0094576172139, 654.5835705154509, 860.7433604993773, 477.1688826284581, 217.78425314354922, 117.84248719057138, 215.01805208043382, 158.43057361970332, 156.2999393079196, 921.2668499299109, 261.00427407503673, 157.24334466829723, 784.0999625602981, 698.1887767914284, 673.7434431589338, 987.0521667414914, 904.1895011293375, 1578.612951886288, 1250.9178137558276, 1009.6128287088046, 415.1208092280245, 1078.3011282164766, 727.6879496171213, 995.6527549757668, 726.2194693207066, 695.4993360101603, 402.1568198774598, 420.7250157126571, 478.04558042784225, 499.2444819035008, 671.0169424329974, 572.2081410068089, 452.91439066312125, 488.6940705593129, 546.4260780646918, 512.7074803009009, 465.00472196299256, 461.69729788154063, 2760.14995446541, 1104.7016337521738, 302.7972149009265, 359.6839844575075, 146.8612522121714, 227.0376820939462, 916.7794077712084, 155.29388412149416, 266.7290291007596, 207.48541149647653, 142.03629350333335, 118.93402111756944, 167.43220143676393, 228.62788735382296, 1177.7519275957588, 114.00618189874452, 302.5165995269032, 149.07291738556074, 193.48618868517238, 118.8384583361043, 102.08595103933742, 118.79753511402922, 113.05276405149162, 118.82264365886643, 383.22428195692646, 1224.3320802375895, 523.1027357805683, 91.74702443655262, 112.03268253445378, 96.32374136033071, 405.4155973074458, 713.3005293089172, 300.5397824982825, 1063.9852104201784, 541.4210230160696, 1381.0631775839333, 904.3918140548692, 250.63659700823683, 604.3889442417109, 385.84772000478847, 484.4606246089624, 307.49296938986276, 465.88431621773094, 285.2950153385516, 318.61004995627934, 282.6641283284481, 312.4022989186414, 285.69525602128004, 285.0606785736769, 274.7088745666348, 277.6553727773211, 276.55891106688813, 172.62323503662262, 220.25672033784753, 250.17656885159607, 220.0857498242134, 185.55090204057103, 170.1637017746276, 182.02743026446495, 240.29638709445172, 168.3028129144898, 135.55109024213104, 129.21337381710842, 310.25121349341396, 131.26047880984646, 314.96573411571296, 216.80629681167187, 197.10235958076353, 158.89473252173624, 208.81918027933418, 314.2850007603244, 211.02072179006336, 120.67972787246109, 285.7369932245661, 302.31673034905975, 136.5453153150391, 242.20513785804158, 198.11404547103749, 163.19616591217917, 236.63235554204658, 610.3277477761945, 750.2059134158662, 326.2563645373179, 485.246728961122, 534.5015793630196, 1047.305693527515, 591.4369058511035, 255.35119052315548, 640.828648678191, 248.07482106352379, 311.6012168655321, 238.05630412745813, 296.2823441453214, 382.4078223151907, 272.8978494690141, 523.2139162275895, 330.01131081747786, 299.5332313869134, 307.6743139155629, 266.67630019751454, 346.36548787773427, 259.8322972338916, 273.2028904119663, 257.05607425321745], \"Total\": [2771.0, 4194.0, 3220.0, 2178.0, 1450.0, 1109.0, 1773.0, 2003.0, 1017.0, 2265.0, 1765.0, 1839.0, 1004.0, 2440.0, 1362.0, 1798.0, 1336.0, 1411.0, 814.0, 1748.0, 798.0, 1734.0, 1067.0, 979.0, 1121.0, 1663.0, 1239.0, 1589.0, 626.0, 727.0, 476.88555642609623, 268.75232638870756, 287.400474965952, 169.44737597769756, 164.05906939707253, 158.3161127310581, 269.02140285939754, 334.53576151566284, 155.26629400310037, 301.12293912689864, 424.4748538291496, 177.60439037351887, 225.59356240324078, 174.7272475137037, 410.22170164585066, 186.08540664607858, 150.44841104543457, 186.5660314300843, 150.9428435681623, 161.13076500665642, 194.1079919759688, 405.0947729668308, 168.72817508212086, 424.1463138816464, 425.8922028040329, 172.57661653753436, 341.77090340095464, 160.4372565212538, 166.0896294941386, 301.7696607299269, 504.905902873615, 1765.4916228419381, 651.5130574944865, 665.2106800888398, 1839.1972478733821, 876.6366522862381, 908.1440281848886, 1012.4258317710095, 1520.004967330483, 2214.378754397063, 508.80259043896916, 4194.557822085132, 819.8435506244597, 286.1780696502613, 389.50105001192895, 309.6403171736895, 396.17319751352346, 685.8479648619096, 588.5823517643465, 2178.46834091036, 1265.2791097726817, 885.4831096747797, 1473.5368909328067, 978.9280999998007, 1425.79632677876, 572.2719799144746, 941.0285331749437, 1112.3121084690324, 729.8800404246128, 1274.7805999809004, 1663.2297232912929, 2486.1599328633797, 1985.3404982833188, 1244.1066217802825, 1336.7713895079273, 2265.120303144732, 1303.413264642998, 191.33537423807044, 164.73895674004285, 402.7197824745772, 592.4773518479657, 241.35713896838965, 522.688716727553, 144.17827006270926, 590.8995463141684, 310.8862028489046, 191.71815449557127, 212.8821564868487, 1362.8940194974205, 201.57539476425342, 446.61936326635623, 343.30622046212915, 1121.2531154880242, 218.47260270142692, 975.4382634875479, 618.3801924925756, 3220.3851734328327, 177.07848568897813, 281.6461858689742, 146.21857068454952, 431.06397881643073, 308.44063091457633, 996.3626104201792, 503.84233471140647, 232.5319890593629, 259.6757729071298, 952.7071022713322, 1734.7623616915894, 492.5962633848771, 1748.1863945374287, 730.6886087622665, 1611.6833037286842, 1716.324780178291, 556.2296621633476, 747.1077394246728, 1676.7062851484911, 402.78218878696293, 1049.495321253761, 1589.1764330038106, 470.33012196665715, 876.599224583896, 959.6944707491914, 2440.3045684115536, 935.5104175058925, 2486.1599328633797, 1379.4213110150029, 1641.6881026992658, 1049.4643664458824, 1576.6292101552033, 1985.3404982833188, 1293.1376422909875, 2003.2904309446212, 626.4387952263933, 303.99654784093246, 206.29882658514708, 152.70227727484337, 280.32072942785487, 157.15131401279606, 727.9235194586697, 336.2201035125157, 149.36237239248408, 251.52549685959264, 271.8652795489841, 335.59523096554625, 271.5048395010078, 431.9133196846706, 219.19001266072692, 145.29840275267463, 834.9138340477635, 797.0845990525582, 1067.124075176624, 597.0056147435906, 272.733299127263, 148.0219863044638, 271.67428954519573, 202.60083406055418, 200.2138740972588, 1182.301910499249, 342.7543814425307, 207.18582459037088, 1036.6647642418957, 926.0654562647336, 903.7278523076902, 1338.7973316320804, 1239.2465073055582, 2265.120303144732, 1798.7675393150864, 1446.3477215100352, 564.3891159110717, 1729.7477170547922, 1100.4872622878202, 1663.2297232912929, 1132.38099604152, 1080.720822965759, 560.9411364232386, 598.9280113740192, 736.1504668447192, 786.0524846382825, 1244.0807013289702, 987.5347237986729, 750.1932827795187, 966.9162913703151, 1516.7337476782545, 1576.6292101552033, 1034.6210473000444, 1293.9785745050176, 2771.577049445184, 1109.5538533481545, 310.9427982202218, 384.3721794477149, 159.5927573351799, 249.5224553164427, 1017.7141204760239, 172.88124642849002, 312.2291256648411, 244.63425634468047, 168.7571967886645, 144.90499610981564, 205.2294140410763, 280.5600795755613, 1450.4298601854152, 148.61436055718403, 404.2126678512143, 203.45953447130458, 272.1474339685857, 171.88250943621804, 149.33694773208367, 177.82766693568016, 171.5939645768669, 181.10086504830488, 615.900742680671, 2003.2904309446212, 864.3526587224446, 154.02662222032245, 188.83176008097345, 167.5314047048945, 723.4084063028446, 1336.7713895079273, 540.8291705991277, 2178.46834091036, 1246.7080147577933, 4194.557822085132, 2440.3045684115536, 475.8396042927678, 1725.5076501071323, 967.297976401151, 1516.7337476782545, 770.4813323753308, 1985.3404982833188, 773.1856676560149, 1057.2126297194802, 1083.6017853270798, 1748.1863945374287, 1239.5474297257765, 1839.1972478733821, 1379.4213110150029, 1641.6881026992658, 277.36294643496467, 173.42648104174893, 224.0674270687379, 257.74808442900377, 237.93042795236244, 200.9948817193118, 187.42768704774016, 202.36034325688036, 267.2883323289705, 191.23926352172717, 154.09106481693746, 148.43723601973034, 356.44936015779575, 152.23722741750692, 372.62820994826296, 257.30740382528353, 235.9216204383284, 192.41636393888518, 258.00482483980625, 389.45612149327144, 261.52727875779135, 150.6896560316553, 362.9414960648555, 390.68429239257756, 177.9431388682857, 317.22302594806297, 259.9644347651045, 215.49463087009696, 313.1088473465201, 814.6156877664288, 1004.0679483376966, 448.50838931973925, 708.4674516937112, 798.6024101190648, 1773.5691031878291, 979.9811427889522, 352.936028993831, 1411.16187317171, 366.56512747850957, 562.099251532775, 349.8478092748252, 546.9580987359295, 931.671733592204, 500.1159462496595, 2486.1599328633797, 825.4476579381428, 651.1920380077181, 773.1856676560149, 493.25845845456206, 1589.1764330038106, 467.56326136691916, 1246.2411258604475, 617.8367387780872], \"Category\": [\"Default\", \"Default\", \"Default\", \"Default\", \"Default\", \"Default\", \"Default\", \"Default\", \"Default\", \"Default\", \"Default\", \"Default\", \"Default\", \"Default\", \"Default\", \"Default\", \"Default\", \"Default\", \"Default\", \"Default\", \"Default\", \"Default\", \"Default\", \"Default\", \"Default\", \"Default\", \"Default\", \"Default\", \"Default\", \"Default\", \"Topic1\", \"Topic1\", \"Topic1\", \"Topic1\", \"Topic1\", \"Topic1\", \"Topic1\", \"Topic1\", \"Topic1\", \"Topic1\", \"Topic1\", \"Topic1\", \"Topic1\", \"Topic1\", \"Topic1\", \"Topic1\", \"Topic1\", \"Topic1\", \"Topic1\", \"Topic1\", \"Topic1\", \"Topic1\", \"Topic1\", \"Topic1\", \"Topic1\", \"Topic1\", \"Topic1\", \"Topic1\", \"Topic1\", \"Topic1\", \"Topic1\", \"Topic1\", \"Topic1\", \"Topic1\", \"Topic1\", \"Topic1\", \"Topic1\", \"Topic1\", \"Topic1\", \"Topic1\", \"Topic1\", \"Topic1\", \"Topic1\", \"Topic1\", \"Topic1\", \"Topic1\", \"Topic1\", \"Topic1\", \"Topic1\", \"Topic1\", \"Topic1\", \"Topic1\", \"Topic1\", \"Topic1\", \"Topic1\", \"Topic1\", \"Topic1\", \"Topic1\", \"Topic1\", \"Topic1\", \"Topic1\", \"Topic1\", \"Topic1\", \"Topic1\", \"Topic1\", \"Topic1\", \"Topic1\", \"Topic2\", \"Topic2\", \"Topic2\", \"Topic2\", \"Topic2\", \"Topic2\", \"Topic2\", \"Topic2\", \"Topic2\", \"Topic2\", \"Topic2\", \"Topic2\", \"Topic2\", \"Topic2\", \"Topic2\", \"Topic2\", \"Topic2\", \"Topic2\", \"Topic2\", \"Topic2\", \"Topic2\", \"Topic2\", \"Topic2\", \"Topic2\", \"Topic2\", \"Topic2\", \"Topic2\", \"Topic2\", \"Topic2\", \"Topic2\", \"Topic2\", \"Topic2\", \"Topic2\", \"Topic2\", \"Topic2\", \"Topic2\", \"Topic2\", \"Topic2\", \"Topic2\", \"Topic2\", \"Topic2\", \"Topic2\", \"Topic2\", \"Topic2\", \"Topic2\", \"Topic2\", \"Topic2\", \"Topic2\", \"Topic2\", \"Topic2\", \"Topic2\", \"Topic2\", \"Topic2\", \"Topic2\", \"Topic2\", \"Topic3\", \"Topic3\", \"Topic3\", \"Topic3\", \"Topic3\", \"Topic3\", \"Topic3\", \"Topic3\", \"Topic3\", \"Topic3\", \"Topic3\", \"Topic3\", \"Topic3\", \"Topic3\", \"Topic3\", \"Topic3\", \"Topic3\", \"Topic3\", \"Topic3\", \"Topic3\", \"Topic3\", \"Topic3\", \"Topic3\", \"Topic3\", \"Topic3\", \"Topic3\", \"Topic3\", \"Topic3\", \"Topic3\", \"Topic3\", \"Topic3\", \"Topic3\", \"Topic3\", \"Topic3\", \"Topic3\", \"Topic3\", \"Topic3\", \"Topic3\", \"Topic3\", \"Topic3\", \"Topic3\", \"Topic3\", \"Topic3\", \"Topic3\", \"Topic3\", \"Topic3\", \"Topic3\", \"Topic3\", \"Topic3\", \"Topic3\", \"Topic3\", \"Topic3\", \"Topic3\", \"Topic3\", \"Topic4\", \"Topic4\", \"Topic4\", \"Topic4\", \"Topic4\", \"Topic4\", \"Topic4\", \"Topic4\", \"Topic4\", \"Topic4\", \"Topic4\", \"Topic4\", \"Topic4\", \"Topic4\", \"Topic4\", \"Topic4\", \"Topic4\", \"Topic4\", \"Topic4\", \"Topic4\", \"Topic4\", \"Topic4\", \"Topic4\", \"Topic4\", \"Topic4\", \"Topic4\", \"Topic4\", \"Topic4\", \"Topic4\", \"Topic4\", \"Topic4\", \"Topic4\", \"Topic4\", \"Topic4\", \"Topic4\", \"Topic4\", \"Topic4\", \"Topic4\", \"Topic4\", \"Topic4\", \"Topic4\", \"Topic4\", \"Topic4\", \"Topic4\", \"Topic4\", \"Topic4\", \"Topic4\", \"Topic4\", \"Topic4\", \"Topic4\", \"Topic4\", \"Topic5\", \"Topic5\", \"Topic5\", \"Topic5\", \"Topic5\", \"Topic5\", \"Topic5\", \"Topic5\", \"Topic5\", \"Topic5\", \"Topic5\", \"Topic5\", \"Topic5\", \"Topic5\", \"Topic5\", \"Topic5\", \"Topic5\", \"Topic5\", \"Topic5\", \"Topic5\", \"Topic5\", \"Topic5\", \"Topic5\", \"Topic5\", \"Topic5\", \"Topic5\", \"Topic5\", \"Topic5\", \"Topic5\", \"Topic5\", \"Topic5\", \"Topic5\", \"Topic5\", \"Topic5\", \"Topic5\", \"Topic5\", \"Topic5\", \"Topic5\", \"Topic5\", \"Topic5\", \"Topic5\", \"Topic5\", \"Topic5\", \"Topic5\", \"Topic5\", \"Topic5\", \"Topic5\", \"Topic5\", \"Topic5\", \"Topic5\", \"Topic5\", \"Topic5\", \"Topic5\"], \"logprob\": [30.0, 29.0, 28.0, 27.0, 26.0, 25.0, 24.0, 23.0, 22.0, 21.0, 20.0, 19.0, 18.0, 17.0, 16.0, 15.0, 14.0, 13.0, 12.0, 11.0, 10.0, 9.0, 8.0, 7.0, 6.0, 5.0, 4.0, 3.0, 2.0, 1.0, -5.4258, -6.0004, -5.9338, -6.4634, -6.4959, -6.5323, -6.0023, -5.7844, -6.5525, -5.8904, -5.5494, -6.4208, -6.1819, -6.4442, -5.5937, -6.3849, -6.5996, -6.3922, -6.6108, -6.546, -6.3632, -5.6284, -6.5069, -5.591, -5.588, -6.4938, -5.8113, -6.569, -6.5502, -5.9565, -5.4602, -4.2415, -5.2155, -5.2095, -4.2692, -4.9678, -4.9472, -4.872, -4.5401, -4.2633, -5.544, -3.7991, -5.1603, -6.0353, -5.7958, -5.9791, -5.7919, -5.3807, -5.5093, -4.5958, -5.0006, -5.2757, -5.0358, -5.2712, -5.0851, -5.5733, -5.3358, -5.2823, -5.4738, -5.2741, -5.2, -5.128, -5.1993, -5.3767, -5.3683, -5.3074, -5.4368, -6.3393, -6.4898, -5.6123, -5.2354, -6.1463, -5.3927, -6.6808, -5.2703, -5.9145, -6.4051, -6.3071, -4.4548, -6.3672, -5.5734, -5.8473, -4.6782, -6.3217, -4.8257, -5.2815, -3.6322, -6.5347, -6.075, -6.7356, -5.6579, -5.9959, -4.8301, -5.5162, -6.2931, -6.1866, -4.8943, -4.3555, -5.5659, -4.4007, -5.2221, -4.5176, -4.4917, -5.4871, -5.2358, -4.5744, -5.7813, -5.0128, -4.6921, -5.667, -5.2139, -5.1545, -4.5712, -5.2361, -4.6496, -5.0624, -4.9979, -5.232, -5.0989, -5.024, -5.2631, -5.3329, -4.9744, -5.7123, -6.1259, -6.4495, -5.8426, -6.4301, -4.9034, -5.6768, -6.5326, -6.0269, -5.9565, -5.7478, -5.9691, -5.5053, -6.1875, -6.6087, -4.8648, -4.929, -4.6552, -5.2451, -6.0295, -6.6436, -6.0423, -6.3477, -6.3612, -4.5872, -5.8485, -6.3552, -4.7485, -4.8645, -4.9001, -4.5183, -4.606, -4.0487, -4.2814, -4.4957, -5.3844, -4.4299, -4.8231, -4.5096, -4.8251, -4.8684, -5.4162, -5.371, -5.2433, -5.1999, -4.9042, -5.0635, -5.2973, -5.2213, -5.1096, -5.1733, -5.2709, -5.2781, -3.0985, -4.0142, -5.3085, -5.1363, -6.0321, -5.5964, -4.2007, -5.9762, -5.4353, -5.6865, -6.0655, -6.243, -5.901, -5.5895, -3.9502, -6.2853, -5.3094, -6.0171, -5.7564, -6.2438, -6.3957, -6.2441, -6.2937, -6.2439, -5.0729, -3.9114, -4.7618, -6.5025, -6.3028, -6.4538, -5.0166, -4.4517, -5.316, -4.0518, -4.7274, -3.7909, -4.2143, -5.4976, -4.6173, -5.0661, -4.8385, -5.2931, -4.8776, -5.368, -5.2576, -5.3773, -5.2773, -5.3666, -5.3689, -5.4058, -5.3952, -5.2089, -5.6802, -5.4366, -5.3092, -5.4373, -5.608, -5.6946, -5.6272, -5.3495, -5.7056, -5.922, -5.9699, -5.094, -5.9542, -5.0789, -5.4523, -5.5476, -5.7631, -5.4899, -5.081, -5.4794, -6.0382, -5.1763, -5.1199, -5.9147, -5.3416, -5.5425, -5.7364, -5.3648, -4.4174, -4.211, -5.0437, -4.6467, -4.55, -3.8774, -4.4488, -5.2887, -4.3686, -5.3176, -5.0896, -5.3588, -5.14, -4.8849, -5.2222, -4.5714, -5.0322, -5.1291, -5.1023, -5.2453, -4.9839, -5.2713, -5.2211, -5.2821], \"loglift\": [30.0, 29.0, 28.0, 27.0, 26.0, 25.0, 24.0, 23.0, 22.0, 21.0, 20.0, 19.0, 18.0, 17.0, 16.0, 15.0, 14.0, 13.0, 12.0, 11.0, 10.0, 9.0, 8.0, 7.0, 6.0, 5.0, 4.0, 3.0, 2.0, 1.0, 1.3509, 1.3498, 1.3493, 1.348, 1.3478, 1.3471, 1.3469, 1.3468, 1.3463, 1.346, 1.3437, 1.3436, 1.3433, 1.3365, 1.3336, 1.3329, 1.3308, 1.323, 1.3162, 1.3158, 1.3124, 1.3114, 1.3088, 1.3029, 1.3017, 1.2993, 1.2985, 1.2971, 1.2812, 1.2778, 1.2594, 1.2263, 1.2492, 1.2343, 1.1577, 1.2001, 1.1853, 1.1519, 1.0774, 0.978, 1.1679, 0.8033, 1.0746, 1.2521, 1.1833, 1.2295, 1.1702, 1.0326, 1.057, 0.6618, 0.8003, 0.8822, 0.6127, 0.7863, 0.5964, 1.021, 0.7612, 0.6475, 0.8773, 0.5193, 0.3275, -0.0025, 0.1511, 0.4411, 0.3776, -0.0889, 0.3344, 1.3506, 1.3498, 1.3334, 1.3242, 1.3114, 1.2923, 1.2921, 1.292, 1.29, 1.2828, 1.2762, 1.2718, 1.2706, 1.2688, 1.258, 1.2436, 1.2357, 1.2354, 1.2354, 1.2345, 1.2327, 1.2284, 1.2233, 1.2198, 1.2165, 1.2097, 1.2055, 1.2019, 1.198, 1.1903, 1.1299, 1.1784, 1.0769, 1.1279, 1.0413, 1.0043, 1.1357, 1.092, 0.945, 1.1643, 0.9751, 0.8809, 1.1235, 0.9541, 0.9229, 0.5729, 0.8668, 0.4759, 0.6522, 0.5426, 0.7559, 0.482, 0.3264, 0.5161, 0.0085, 1.5295, 1.5147, 1.4887, 1.4659, 1.4654, 1.4566, 1.4504, 1.4494, 1.405, 1.3895, 1.3821, 1.3803, 1.3709, 1.3704, 1.3665, 1.3565, 1.3519, 1.334, 1.3161, 1.3069, 1.306, 1.303, 1.2971, 1.2851, 1.2834, 1.2815, 1.2585, 1.2552, 1.2518, 1.2485, 1.2373, 1.2262, 1.2158, 1.1699, 1.1678, 1.1715, 1.2238, 1.0584, 1.1173, 1.0179, 1.0868, 1.0902, 1.1982, 1.1778, 1.0993, 1.0771, 0.9136, 0.9853, 1.0264, 0.8486, 0.5101, 0.4076, 0.7312, 0.5004, 1.9183, 1.918, 1.8959, 1.856, 1.8393, 1.828, 1.818, 1.8151, 1.7649, 1.7577, 1.75, 1.7249, 1.7189, 1.7177, 1.7142, 1.6573, 1.6326, 1.6114, 1.5813, 1.5534, 1.542, 1.519, 1.5051, 1.501, 1.448, 1.43, 1.4202, 1.4043, 1.4004, 1.369, 1.3434, 1.2943, 1.3349, 1.2058, 1.0884, 0.8115, 0.9298, 1.2813, 0.8734, 1.0034, 0.7811, 1.0039, 0.4728, 0.9254, 0.723, 0.5786, 0.2004, 0.4548, 0.058, 0.3087, 0.1453, 2.1097, 2.108, 2.0955, 2.0828, 2.0347, 2.0327, 2.016, 2.0067, 2.0062, 1.9849, 1.9844, 1.9739, 1.9738, 1.9644, 1.9445, 1.9414, 1.9329, 1.9212, 1.9011, 1.8982, 1.898, 1.8905, 1.8735, 1.8562, 1.8478, 1.8428, 1.8409, 1.8346, 1.8326, 1.8239, 1.8212, 1.7944, 1.7342, 1.7111, 1.5859, 1.6077, 1.789, 1.3232, 1.7222, 1.5227, 1.7276, 1.4996, 1.2221, 1.5069, 0.5541, 1.1958, 1.336, 1.1912, 1.4976, 0.5892, 1.5251, 0.595, 1.2357]}, \"token.table\": {\"Topic\": [1, 5, 1, 2, 3, 4, 5, 1, 2, 3, 5, 1, 2, 3, 4, 5, 1, 2, 3, 4, 5, 1, 2, 3, 4, 5, 1, 4, 5, 1, 2, 3, 4, 5, 1, 2, 3, 5, 1, 2, 3, 5, 1, 2, 3, 4, 5, 1, 2, 3, 4, 5, 1, 2, 3, 4, 5, 1, 2, 3, 5, 1, 2, 3, 4, 5, 1, 3, 4, 1, 1, 2, 5, 1, 3, 4, 1, 2, 1, 1, 2, 3, 5, 1, 2, 3, 4, 1, 4, 1, 1, 2, 4, 1, 1, 2, 3, 4, 5, 1, 2, 3, 4, 5, 1, 2, 3, 4, 5, 1, 2, 3, 4, 5, 1, 3, 5, 4, 5, 1, 2, 3, 4, 5, 1, 3, 4, 2, 3, 4, 5, 1, 3, 5, 1, 2, 3, 4, 5, 1, 2, 3, 4, 1, 2, 3, 4, 5, 2, 3, 4, 5, 1, 2, 3, 4, 5, 2, 3, 5, 1, 2, 3, 4, 1, 2, 3, 5, 1, 2, 3, 4, 2, 4, 5, 2, 3, 4, 5, 1, 2, 3, 4, 5, 1, 2, 3, 4, 5, 1, 2, 3, 4, 5, 1, 4, 5, 1, 2, 3, 4, 5, 1, 2, 3, 4, 5, 1, 2, 3, 4, 5, 1, 2, 3, 4, 5, 1, 2, 3, 4, 5, 1, 2, 3, 4, 2, 3, 4, 5, 2, 4, 2, 4, 1, 2, 5, 1, 2, 3, 4, 5, 2, 3, 5, 1, 2, 3, 4, 5, 1, 2, 3, 4, 5, 1, 2, 3, 4, 5, 1, 2, 3, 4, 5, 1, 2, 3, 4, 1, 4, 1, 1, 2, 3, 4, 5, 1, 2, 4, 5, 1, 2, 4, 5, 2, 3, 4, 5, 1, 2, 3, 4, 5, 2, 3, 4, 5, 1, 2, 3, 4, 5, 1, 4, 1, 2, 3, 4, 5, 1, 3, 4, 1, 4, 1, 2, 3, 4, 5, 1, 2, 4, 5, 1, 4, 1, 2, 3, 4, 5, 1, 2, 5, 1, 2, 3, 4, 5, 1, 4, 1, 4, 1, 5, 1, 2, 3, 4, 5, 2, 3, 4, 5, 1, 2, 3, 4, 5, 1, 2, 3, 4, 5, 1, 2, 3, 4, 5, 1, 2, 3, 5, 2, 3, 4, 5, 1, 2, 3, 4, 5, 1, 3, 4, 1, 3, 5, 1, 2, 3, 4, 5, 1, 2, 3, 4, 1, 2, 3, 4, 5, 3, 1, 2, 3, 4, 1, 2, 3, 4, 5, 1, 2, 3, 4, 5, 1, 2, 3, 4, 5, 1, 2, 3, 4, 5, 3, 5, 1, 2, 3, 4, 5, 2, 4, 5, 1, 2, 3, 4, 5, 1, 2, 3, 4, 5, 2, 4, 5, 1, 2, 3, 4, 5, 1, 2, 3, 4, 5, 1, 2, 3, 4, 1, 2, 3, 4, 5, 1, 2, 3, 5, 1, 2, 3, 4, 5, 1, 2, 3, 4, 2, 3, 5, 1, 2, 3, 4, 5, 1, 2, 3, 4, 5, 1, 2, 3, 5, 2, 5, 1, 2, 3, 4, 1, 2, 3, 4, 5, 1, 3, 4, 1, 3, 4, 2, 3, 4, 1, 2, 3, 4, 5, 1, 2, 4, 1, 2, 3, 4, 5, 1, 2, 3, 4, 5, 2, 4, 5, 1, 2, 3, 4, 5, 2, 3, 4, 5, 3, 4, 5, 1, 2, 3, 4, 5, 2, 3, 4, 5, 2, 4, 5, 1, 2, 4, 5, 1, 2, 3, 4, 5, 1, 2, 3, 4, 1, 2, 3, 4, 5, 1, 2, 3, 4, 5, 1, 2, 3, 4, 5, 1, 2, 4, 5, 1, 2, 3, 4, 5, 1, 2, 3, 4, 5, 1, 2, 3, 4, 5, 2, 5, 1, 2, 3, 4, 1, 2, 3, 4, 5, 2, 3, 4, 5, 1, 2, 4, 5, 1, 3, 4, 5, 1, 2, 3, 1, 2, 3, 4, 5, 1, 2, 3, 4, 5, 1, 2, 3, 4, 5, 1, 2, 3, 4, 1, 2, 3, 4, 1, 2, 3, 5, 1, 2, 4, 5, 3, 5, 1, 2, 5, 1, 2, 3, 5, 1, 2, 4, 5, 1, 2, 3, 4, 1, 2, 3, 4, 1, 3, 4, 2, 1, 2, 3, 4, 5, 2, 5, 1, 2, 3, 4, 5, 1, 2, 4, 5, 1, 2, 3, 4, 5, 1, 2, 3, 4, 5, 2, 4, 5, 1, 2, 3, 4, 5, 1, 2, 3, 4, 1, 2, 3, 4, 5, 1, 2, 3, 5, 2, 3, 4, 1, 2, 3, 4, 5, 1, 3, 4, 1, 2, 3, 4, 2, 4, 1, 2, 3, 4, 5, 1, 2, 3, 4, 5, 1, 2, 3, 4, 5, 1, 3, 4, 5, 1, 2, 3, 4, 5, 1, 5, 2, 3, 4, 5, 1, 2, 3, 4, 5, 1, 4, 1, 2, 3, 4, 5, 1, 2, 4, 5, 1, 2, 3, 4, 1, 2, 3, 4, 5, 1, 2, 3, 4, 5, 1, 2, 3, 4, 5, 1, 1, 4, 5, 2, 3, 5, 1, 2, 3, 4, 5, 1, 2, 1, 2, 3, 4, 5, 1, 2, 3, 4, 5, 1, 2, 3, 5, 1, 2, 1, 2, 3, 4, 5, 1, 2, 3, 4, 5, 1, 2, 3, 4, 1, 2, 3, 4, 5, 1, 2, 4, 1, 2, 3, 4, 5, 1, 2, 3, 4, 5, 1, 3, 4, 1, 2, 3, 4, 5, 1, 2, 3, 4, 1, 2, 3, 4, 1, 3, 4, 1, 2, 3, 4, 5, 1, 2, 3, 4, 1, 2, 3, 4, 5, 1, 4, 1, 1, 2, 3, 4, 1, 4, 1, 2, 3, 4, 5, 1, 2, 3, 4, 5, 2, 3, 4, 5, 1, 2, 3, 4, 1, 2, 4, 5, 1, 2, 4, 5, 1, 2, 3, 4, 5, 1, 2, 3, 4, 5, 1, 3, 5, 1, 2, 3, 4, 5, 1, 2, 3, 4, 5, 1, 2, 3, 4, 5, 2, 3, 4, 5, 1, 2, 3, 5, 1, 2, 3, 4, 5, 1, 4, 1, 2, 3, 4, 5, 1, 2, 3, 4, 5, 2, 3, 4, 1, 2, 3, 4, 5, 1, 2, 3, 4, 5, 1, 2, 3, 4, 5, 1, 3, 4, 5], \"Freq\": [0.027158300770720713, 0.9699393132400254, 0.18673828710539864, 0.04489882312916688, 0.10816534662935658, 0.05714395670984876, 0.6030728288485825, 0.16150235543392572, 0.031167121224090925, 0.08216786504533062, 0.7225105374675624, 0.12674218985359575, 0.022042119974538393, 0.03306317996180759, 0.03306317996180759, 0.7880057890897476, 0.10706340131322087, 0.053531700656610434, 0.007647385808087205, 0.026765850328305217, 0.8067992027532002, 0.05359005686675251, 0.03782827543535471, 0.05359005686675251, 0.09141833230210722, 0.7628702212796533, 0.13565637782832668, 0.05426255113133067, 0.8100623704605793, 0.0519173516615264, 0.0194690068730724, 0.0389380137461448, 0.0064896689576908, 0.8825949782459488, 0.04975251068315731, 0.019901004273262923, 0.009950502136631461, 0.925396698706726, 0.025985315893341004, 0.03637944225067741, 0.10913832675203222, 0.8263330454082439, 0.10421273609757721, 0.031080991467698466, 0.18831424242193776, 0.1334654339495287, 0.5411749102611026, 0.06351738515639624, 0.06634038005223608, 0.031052943854238162, 0.1538532218232709, 0.6845762622411595, 0.02290681625489398, 0.12648546366832764, 0.033862250115930234, 0.06971639729750342, 0.7469613996161081, 0.09745022377220657, 0.032483407924068855, 0.11601217115738877, 0.7563993559461747, 0.0668883809408817, 0.0668883809408817, 0.07803644443102865, 0.06019954284679354, 0.7268537395575813, 0.012864102410138615, 0.012864102410138615, 0.9744557575680001, 0.9918443728483975, 0.911060847936144, 0.0831838165506914, 0.003961134121461495, 0.32053504936673755, 0.005623421918714694, 0.6691872083270486, 0.9602691171526209, 0.03949693026848826, 0.993544584880527, 0.8446703801951855, 0.017971710216918842, 0.010269548695382194, 0.12836935869227745, 0.06880975146423784, 0.17693936090804016, 0.01474494674233668, 0.7323323548693884, 0.9924860890698202, 0.003717176363557379, 0.9972006702274293, 0.958229478892489, 0.030910628351370612, 0.005151771391895102, 0.9951270958542503, 0.3496557735646232, 0.04420935068058454, 0.5393540783031313, 0.05626644632074396, 0.010449482888138163, 0.5679681684488506, 0.026559662553363516, 0.2952208645354637, 0.10930322666191908, 0.002043050965643347, 0.47708340681920314, 0.17441029239336445, 0.12011915079231715, 0.1397996896226968, 0.08822310510170187, 0.16495207119830188, 0.007717055962493655, 0.7562714843243782, 0.06463034368588436, 0.006752423967181948, 0.11132072235058639, 0.866711338300994, 0.01987870041974757, 0.013388826922530243, 0.9818473076522178, 0.08651035048208616, 0.8945348611704373, 0.005351155699922856, 0.008026733549884283, 0.005351155699922856, 0.11034877292815415, 0.8607204288396024, 0.0257480470165693, 0.23624678578741906, 0.07668153428899521, 0.09585191786124402, 0.5903350470630734, 0.13111032559493446, 0.8611564567485468, 0.008939340381472803, 0.2952879602219195, 0.26158661693572216, 0.034503756221582985, 0.1893694527510136, 0.21905873136028267, 0.0475878742313349, 0.002974242139458431, 0.9220150632321137, 0.026768179255125882, 0.002330561235376723, 0.7044121333926145, 0.06758627582592497, 0.15673024307908462, 0.0693341967524575, 0.6135687954499818, 0.0010689351837107697, 0.2212695830281293, 0.16354708310774774, 0.09661799531314638, 0.6638014122440242, 0.09303955104228911, 0.10914255026114685, 0.03757366484400137, 0.0429382413162479, 0.11002924337288524, 0.8453466259136304, 0.0018040270614164968, 0.00036080541228329936, 0.0018040270614164968, 0.9958229379019062, 0.026274782245147548, 0.05911826005158198, 0.052549564490295096, 0.8604991185285822, 0.0098259420782357, 0.00393037683129428, 0.08450310187282702, 0.9010388885742137, 0.014965112637527775, 0.0860493976657847, 0.8979067582516664, 0.04654342100450093, 0.005817927625562616, 0.6923333874419513, 0.2559888155247551, 0.17898574724629543, 0.002811294459365897, 0.8068415098380124, 0.00655968707185376, 0.004685490765609828, 0.7181899768383269, 0.15901529900799938, 0.008737104341098867, 0.07164425559701071, 0.043685521705494335, 0.11652249098063702, 0.028383683700411583, 0.7372288371659534, 0.10681228339891727, 0.011204085671215098, 0.2972132506277873, 0.6585313200184306, 0.04079397557636296, 0.032396523654228876, 0.6841383524628333, 0.23820973275168292, 0.03334936258523561, 0.012386906103087512, 0.0031052186187220283, 0.886539915645139, 0.010247221441782693, 0.07048846264499004, 0.029499576877859267, 0.27078914060348425, 0.00726950713029488, 0.661525148856834, 0.05179523830335102, 0.009086883912868599, 0.004478086183664263, 0.9180076676511738, 0.04701990492847476, 0.026868517101985574, 0.004478086183664263, 0.6873259585686434, 0.09799588239776323, 0.11741442130607575, 0.07135184063984604, 0.0261924478298169, 0.7261084460610284, 0.05832196353903842, 0.13559856522826433, 0.08019269986617783, 0.8721289384033858, 0.022694805088563943, 0.058358070227735856, 0.04863172518977988, 0.9783477672216719, 0.01986492928368877, 0.9284462416631067, 0.06780787158213701, 0.02900266397720593, 0.9570879112477957, 0.012429713133088256, 0.037826183382488374, 0.00420290926472093, 0.01681163705888372, 0.01681163705888372, 0.9246400382386047, 0.22012658730999926, 0.005119222960697657, 0.7730026670653461, 0.01475225693792524, 0.4577297499906248, 0.11719848567351718, 0.37044556310790044, 0.03974913674940967, 0.052431324942991, 0.9088096323451774, 0.01165140554288689, 0.02330281108577378, 0.005825702771443445, 0.1073339421970382, 0.16422093156146847, 0.1985677930645207, 0.12021401526068279, 0.41001565919268596, 0.25440740909551035, 0.08116807813999616, 0.10418589134387567, 0.16112469242715657, 0.399783071435802, 0.10187229241303168, 0.0023152793730234476, 0.8520228092726286, 0.0439903080874455, 0.9770791128901111, 0.01994039005898186, 0.9981430420482164, 0.16292798893939417, 0.042875786562998466, 0.06002610118819785, 0.05145094387559816, 0.6802958134662423, 0.8884403358062007, 0.04359521106324843, 0.052614909903920516, 0.013529548261008132, 0.8848976854855196, 0.06136151833658712, 0.029065982369962322, 0.025836428773299842, 0.8481095586184478, 0.025191373028270726, 0.12385758405566441, 0.0010496405428446136, 0.00992184587974659, 0.9177707438765595, 0.034726460579113064, 0.029765537639239767, 0.00992184587974659, 0.23733845223752362, 0.051832535546125845, 0.035464366426296634, 0.6765509902862742, 0.0016236382434733883, 0.32959856342509786, 0.022730935408627438, 0.6218534472503078, 0.024354573652100826, 0.9918137581112209, 0.007067556471101336, 0.26579343247571025, 0.11686637303406715, 0.5057314726872463, 0.04343705900381257, 0.06722401988685278, 0.13485578919912455, 0.7791667820393864, 0.08490920060685621, 0.9954092755025507, 0.002989217043551203, 0.2468568079552344, 0.008671784822783411, 0.6232122692640344, 0.10521765584977204, 0.016187331669195698, 0.817837686491663, 0.1807539814347516, 0.0009877266745068395, 0.9986914386379662, 0.9929499255916734, 0.003320902761176165, 0.08212052995252701, 0.004562251664029278, 0.8485788095094458, 0.004562251664029278, 0.05930927163238062, 0.9480034630680472, 0.01170374645763021, 0.03803717598729819, 0.20840859433248016, 0.007558860934338658, 0.7537264188811976, 0.02699593190835235, 0.002159674552668188, 0.07519138211765689, 0.9210944309412968, 0.978045529094881, 0.016121629600465072, 0.9799579066322811, 0.01706394364782579, 0.03832533031786068, 0.18843287406281503, 0.012775110105953561, 0.006387555052976781, 0.7569252737777484, 0.2754812622806884, 0.02003500089314098, 0.03506125156299671, 0.6699203423644015, 0.434584586562033, 0.3027972029114526, 0.032162397200439265, 0.20238776774910563, 0.027455704927204252, 0.011048154528765387, 0.09206795440637822, 0.05524077264382693, 0.09206795440637822, 0.7488193625052095, 0.5753671220658906, 0.17545535865196116, 0.03556527540242456, 0.19916554225357752, 0.015016449614357035, 0.09899781246514104, 0.04033244211542783, 0.7993156710148425, 0.062331955996570286, 0.02524902835010227, 0.09257977061704166, 0.011221790377823232, 0.8696887542813004, 0.11854513172145131, 0.010017898455333914, 0.7029225416159296, 0.0016696497425556524, 0.1686346239981209, 0.1104932677767187, 0.07128597921078625, 0.8162244619635026, 0.020210562258119916, 0.10778966537663955, 0.8690541770991563, 0.35894019427371865, 0.018037195692146665, 0.5988348969792693, 0.015030996410122222, 0.01022107755888311, 0.622020023640984, 0.30826983550489295, 0.0397325565761862, 0.03014193947158953, 0.5771764516519433, 0.004052870581612159, 0.08916315279546749, 0.329236133718023, 0.00023840415185953875, 0.9992995401470391, 0.0035956370831094968, 0.8036248880749726, 0.08090183436996368, 0.1114647495763944, 0.05160580292002977, 0.8600967153338295, 0.012901450730007442, 0.03870435219002233, 0.03870435219002233, 0.024853878203259246, 0.8805373992011847, 0.02840443223229628, 0.01420221611614814, 0.053258310435555525, 0.22781428420238212, 0.4440551154640015, 0.04812119906948713, 0.16933789039642308, 0.11147062569260943, 0.0420323884501004, 0.8878060584826084, 0.03485612700740033, 0.03485612700740033, 0.0010251802061000098, 0.883756717877643, 0.11381715305999947, 0.24238818550506808, 0.020569639595613576, 0.6954761928138535, 0.03891553437007974, 0.002779681026434267, 0.3457653731821499, 0.5565528199349044, 0.0979976726131227, 0.11543614619577162, 0.41798033155501924, 0.3253777087825871, 0.11924173343299486, 0.022199258883802236, 0.6245178411173826, 0.22812405769568048, 0.10051010462829486, 0.04178509967693157, 0.0056466350914772395, 0.12421931943850145, 0.8212277229545374, 0.04830751311497279, 0.10483052826073778, 0.1272471192095748, 0.35998407817838257, 0.3191067652716798, 0.08900705229685284, 0.0021259077764461116, 0.31888616646691675, 0.06732041292079353, 0.1580258113824943, 0.45423562823398583, 0.950302557150499, 0.017383583362509128, 0.011589055575006085, 0.02317811115001217, 0.05937412655158333, 0.7983802453780865, 0.0034586869835873785, 0.10376060950762135, 0.03516331766647168, 0.9909664937328143, 0.005630491441663718, 0.9835638007193853, 0.013158044156781075, 0.21570890801758505, 0.03921980145774273, 0.7166527357278445, 0.023175337225029798, 0.005348154744237645, 0.2201690288873039, 0.669633264025116, 0.044490114645621, 0.06502401371283069, 0.9705012321678577, 0.0033756564597142874, 0.025317423447857156, 0.009649833194617664, 0.9360338198779133, 0.012866444259490219, 0.006433222129745109, 0.0353827217135981, 0.04564920098104512, 0.861380575033634, 0.003969495737482185, 0.06748142753719713, 0.021832226556152013, 0.21298050135134403, 0.002917541114401973, 0.761478230858915, 0.023340328915215786, 0.9363408226585238, 0.05548686356494956, 0.22271597972875892, 0.022594374755091486, 0.7294755278072393, 0.02501520062170843, 0.07501138473311829, 0.16015944307882013, 0.12366741807351934, 0.09933940140331882, 0.5412983709119618, 0.08015310676001539, 0.008015310676001539, 0.9097377617261746, 0.13259432158249385, 0.8508135634876688, 0.01473270239805487, 0.05791902039497788, 0.7577738501676272, 0.17858364621784845, 0.2223036159956439, 0.1324156321365357, 0.44943991929554095, 0.033828811129771895, 0.1623782934229051, 0.04905281941827661, 0.10219337378807627, 0.8461611349652716, 0.03783677782297521, 0.3165369461775731, 0.1928752820732151, 0.2611660518024874, 0.1928752820732151, 0.30643396631788483, 0.022077375094948476, 0.6411269727573038, 0.02560975511014023, 0.0044154750189896955, 0.8267495665656862, 0.06206828577820467, 0.11172291440076841, 0.16309435680293208, 0.0050182879016286795, 0.8217446438916963, 0.00878200382785019, 0.0012545719754071699, 0.16942890366441846, 0.06337417007295042, 0.36860486675083404, 0.39835192617283116, 0.005229051720785295, 0.10981008613649121, 0.8784806890919297, 0.008092752803740092, 0.2557309885981869, 0.25734953915893494, 0.06312347186917272, 0.4159674941122407, 0.026676955143379845, 0.05868930131543566, 0.005335391028675969, 0.9070164748749148, 0.8549122527475672, 0.10397581452335276, 0.038509560934575096, 0.01777701962990601, 0.12443913740934207, 0.8414455958155511, 0.01777701962990601, 0.0016171281230228057, 0.8878033395395203, 0.038811074952547334, 0.006468512492091223, 0.06630225304393503, 0.06614061994822175, 0.2057708176166899, 0.014697915544049278, 0.7091744250003776, 0.15573779254230838, 0.730912827150754, 0.061426460006727204, 0.0018614078789917336, 0.05025801273277681, 0.7574615907230053, 0.20735663514156347, 0.0012197449125974321, 0.0048789796503897285, 0.02927387790233837, 0.23312353430279995, 0.06630118865492476, 0.10479865303520365, 0.0406362124014055, 0.5560744854929173, 0.933231054052475, 0.05418760959014371, 0.006020845510015968, 0.006020845510015968, 0.36135891261549025, 0.2263288306190438, 0.28770614061742855, 0.06444617549830399, 0.06061009362340495, 0.7592080452386408, 0.0559208698832621, 0.14276269134903383, 0.03815777003799061, 0.003947355521171442, 0.09553423517726915, 0.4029463780744224, 0.13526134287474742, 0.3017368417975135, 0.06526596264585714, 0.16107044335062742, 0.8350230878966738, 0.14732059163959602, 0.002395456774627577, 0.8360144143450244, 0.014372740647765465, 0.30757850851761276, 0.10896625553010905, 0.3570383691837616, 0.04327737808288019, 0.18315604652933223, 0.8384148047775859, 0.020300600599941546, 0.13195390389962006, 0.010150300299970773, 0.0027578031243018267, 0.18408335854714694, 0.812173020106888, 0.0013789015621509134, 0.004941679698233065, 0.03953343758586452, 0.05435847668056372, 0.8993857050784179, 0.04584083567660848, 0.013097381621888136, 0.9364627859650018, 0.01201244905326964, 0.7573563117394764, 0.02516894087351734, 0.1784706716485775, 0.027457026407473464, 0.011239545467838515, 0.10677568194446589, 0.028098863669596286, 0.08429659100878886, 0.7699088645469383, 0.02005281084589556, 0.22378936904019445, 0.2253935939078661, 0.4339428267051799, 0.09625349206029869, 0.5012696211796515, 0.003213266802433663, 0.0073446098341340875, 0.48841655396991684, 0.0009012631491319071, 0.0027037894473957214, 0.0009012631491319071, 0.9958957797907574, 0.832969019790228, 0.14892476414431347, 0.007572445634456617, 0.01009659417927549, 0.9525014995479414, 0.00943070791631625, 0.00943070791631625, 0.028292123748948753, 0.15545607862555225, 0.843349226543621, 0.9843914011551644, 0.00572320582066956, 0.00572320582066956, 0.10809205037344846, 0.08782479092842688, 0.7971788715041824, 0.006755753148340529, 0.15919636790475036, 0.030812200239629106, 0.0025676833533024254, 0.8062525729369616, 0.8813409136970493, 0.08949348609520166, 0.001132828937913945, 0.027754308978891654, 0.25726703295039044, 0.02266082673656289, 0.6038443830389993, 0.11597011329888067, 0.1445301503812535, 0.8396513498339488, 0.006882388113393023, 0.9955143776877929, 0.19082548124170778, 0.027655866846624317, 0.698310637877264, 0.04217519694110208, 0.04010100692760526, 0.9982471916685246, 0.9975408539734698, 0.3770278178870398, 0.0755551777908552, 0.0007480710672361901, 0.5333746709394036, 0.012717208143015232, 0.8578240460729196, 0.07072485486239498, 0.034221703965674984, 0.03650315089671999, 0.12835722579954936, 0.009958750277551245, 0.7457997430077266, 0.11175930867029729, 0.00442611123446722, 0.014883163278443492, 0.7930599861227746, 0.025513994191617415, 0.08929897967066094, 0.07654198257485224, 0.8879831960675082, 0.050349562663621596, 0.06408126157188203, 0.20775629263768847, 0.07790860973913317, 0.01298476828985553, 0.5972993413333544, 0.110370530463772, 0.7441609465303236, 0.054367923034178894, 0.04757193265490653, 0.15460878112844623, 0.25782733907297045, 0.41509799364010214, 0.05027834225291935, 0.06636741177385354, 0.21036458398621458, 0.003846680031072588, 0.12309376099432282, 0.11155372090110506, 0.7616426461523724, 0.07143607619474984, 0.9231739077475364, 0.004121312088158645, 0.024739452261998075, 0.061848630654995185, 0.07916624723839384, 0.7496054035385417, 0.08658808291699326, 0.20236836728789453, 0.7798585861338374, 0.014807441508870332, 0.9050309142015122, 0.05590924566495828, 0.03144895068653903, 0.010482983562179677, 0.886612506251922, 0.11294426831234675, 0.09614410685113611, 0.23984336332756537, 0.0775355700412388, 0.39904973381224235, 0.18815298330007282, 0.2211674849193223, 0.4322819023423118, 0.20028803704232337, 0.06263834363099688, 0.08429110439232913, 0.17895454953442816, 0.0053154816693394506, 0.7353082975919573, 0.0531548166933945, 0.0283492355698104, 0.02545317565511606, 0.9290409114117362, 0.03817976348267409, 0.006363293913779015, 0.18257784735712188, 0.003350052245084805, 0.7989874604527261, 0.0016750261225424025, 0.011725182857796819, 0.9672535414643211, 0.033125121283024694, 0.4518329244988987, 0.004203096972082779, 0.5274886699963888, 0.016812387888331115, 0.20225931770185515, 0.24862248508336923, 0.125180551930088, 0.35004191373043125, 0.07418106781042252, 0.84568083493871, 0.15305942194854258, 0.0064894498930758125, 0.5541990208686743, 0.011681009807536462, 0.39845222343485487, 0.029851469508148737, 0.06839076564066475, 0.8754018002005088, 0.0547126125125318, 0.006839076564066475, 0.8226415093592838, 0.008155732082213653, 0.014136602275836999, 0.1549589095620594, 0.016875853640095553, 0.9201008897686879, 0.03228424174626975, 0.021278250241859607, 0.009538525970488789, 0.02551825376409929, 0.8745801517332211, 0.02551825376409929, 0.0695952375384526, 0.006959523753845261, 0.30070408603270476, 0.35762127484626527, 0.10426423083546044, 0.23472044236388678, 0.0030221516184191434, 0.9973597940061554, 0.9541974831508756, 0.017780077325792714, 0.023706769767723616, 0.9253946091633573, 0.03288204194996701, 0.04227691107852901, 0.5536495245709435, 0.05207068465254556, 0.3209254441850767, 0.041444014315291364, 0.031880011011762584, 0.947410865130718, 0.049863729743722, 0.40189481451719444, 0.25721268129100444, 0.16558066358108411, 0.040189481451719446, 0.13423286804874293, 0.006142581245676396, 0.1520288858304908, 0.12438727022494701, 0.25798841231840863, 0.4606935934257297, 0.03312790479756738, 0.018404391554204102, 0.7913888368307763, 0.1582777673661553, 0.9885033846905397, 0.008865501207986903, 0.10439160164492618, 0.4951351661353096, 0.18848483630333893, 0.1993589614746854, 0.012324008527526008, 0.2525115154885558, 0.18555159285101547, 0.32673215262896205, 0.23072937197995838, 0.004840476335243882, 0.052957193195211825, 0.17475873754419904, 0.1800544568637202, 0.5931205637863725, 0.10826337914479865, 0.027911652435768403, 0.778988845252809, 0.04567361307671193, 0.038907151880162014, 0.33682887148953994, 0.005521784778517048, 0.6570923886435287, 0.011846345192958149, 0.9392459402988246, 0.020308020330785395, 0.0016923350275654498, 0.028769695468612647, 0.0031462837581533723, 0.622334927362737, 0.020765472803812256, 0.13591945835222569, 0.21772283606421336, 0.05707747704801069, 0.9382110289766756, 0.003567342315500668, 0.4692114767271443, 0.2644136423410066, 0.06733079486667543, 0.17674333652502297, 0.022443598288891805, 0.3386745272316261, 0.027646900182173563, 0.07188194047365126, 0.5598497286890146, 0.02436297946550322, 0.1218148973275161, 0.038980767144805153, 0.8137235141478075, 0.9009796400050932, 0.003069777308364883, 0.09516309655931138, 0.2603104158117139, 0.08908400896667543, 0.018510962902166323, 0.6050770998645616, 0.02660950917186409, 0.08356642161904457, 0.149225752891151, 0.1910089637006733, 0.5730268911020199, 0.8313636918299826, 0.001965398798652441, 0.01768858918787197, 0.14150871350297575, 0.007861595194609765, 0.062439482572553495, 0.9365922385883024, 0.9916868049097829, 0.10569161326552054, 0.009608328478683686, 0.032027761595612284, 0.8551412346028481, 0.9619516173314069, 0.031030697333271188, 0.09990575893013674, 0.7965089273608162, 0.004105716120416578, 0.07937717832805384, 0.017791436521805173, 0.07798191657846294, 0.08398052554603701, 0.045989335418067885, 0.24394343134801227, 0.5458734160492406, 0.020186474501874642, 0.1345764966791643, 0.7670860310712364, 0.07401707317354035, 0.9509448572514814, 0.009392047972854136, 0.004696023986427068, 0.037568191891416546, 0.9278600085997049, 0.036451643194988406, 0.013255142979995783, 0.023196500214992623, 0.03252413808821724, 0.9393736353714509, 0.0019131845934245437, 0.024871399714519068, 0.11195181202244393, 0.05470372632914874, 0.63481766135454, 0.1297623275714691, 0.06869770283195423, 0.23663202314502046, 0.007063642481940909, 0.6970932174365435, 0.056509139855527274, 0.0030903435858491476, 0.03393136120001557, 0.9597727882290118, 0.009694674628575877, 0.2368789372425287, 0.017580858623468927, 0.6430893022795213, 0.09808268495198454, 0.004626541743018139, 0.26624991605329446, 0.006792089695237103, 0.6493237748646671, 0.05841197137903909, 0.019017851146663888, 0.20612823542504216, 0.7682961502206117, 0.002676990070455093, 0.012046455317047918, 0.009369465246592825, 0.8651468762326231, 0.00702555467938325, 0.07326649879928246, 0.05520078676658268, 0.05972540011710807, 0.006636155568567564, 0.13272311137135126, 0.8029748237966752, 0.26507774133072665, 0.051592312071081024, 0.10496366938599243, 0.024906633413625322, 0.5550621160750786, 0.9701658903959149, 0.0268001627181192, 0.053141912925877895, 0.6491649363298417, 0.1021158326810987, 0.10628382585175579, 0.08856985487646316, 0.31087514454082893, 0.04354277268812913, 0.5792201390141829, 0.04860588579139996, 0.01721458455112082, 0.10714026396672192, 0.20758426143552372, 0.6830191827878522, 0.20963074786907945, 0.5498042796384494, 0.06765355953956656, 0.12577844872144767, 0.046690484752658606, 0.49356650513823347, 0.16452216837941117, 0.21846386293003778, 0.09349893722108613, 0.028768903760334193, 0.07787188397163189, 0.2600721253155142, 0.025957294657210632, 0.6109947819312657, 0.024958937170394838, 0.02313726955719599, 0.06941180867158797, 0.8965691953413446, 0.005784317389298997], \"Term\": [\"00\", \"00\", \"10\", \"10\", \"10\", \"10\", \"10\", \"11\", \"11\", \"11\", \"11\", \"12\", \"12\", \"12\", \"12\", \"12\", \"14\", \"14\", \"14\", \"14\", \"14\", \"15\", \"15\", \"15\", \"15\", \"15\", \"16\", \"16\", \"16\", \"17\", \"17\", \"17\", \"17\", \"17\", \"18\", \"18\", \"18\", \"18\", \"19\", \"19\", \"19\", \"19\", \"20\", \"20\", \"20\", \"20\", \"20\", \"2015\", \"2015\", \"2015\", \"2015\", \"2015\", \"2016\", \"2016\", \"2016\", \"2016\", \"2016\", \"25\", \"25\", \"25\", \"25\", \"30\", \"30\", \"30\", \"30\", \"30\", \"ai\", \"ai\", \"ai\", \"apache\", \"data\", \"data\", \"data\", \"facebook\", \"facebook\", \"facebook\", \"hadoop\", \"hadoop\", \"hive\", \"http\", \"http\", \"http\", \"http\", \"ibm\", \"ibm\", \"ibm\", \"ibm\", \"learning\", \"learning\", \"python\", \"spark\", \"spark\", \"spark\", \"sql\", \"\\u4e00\\u4e9b\", \"\\u4e00\\u4e9b\", \"\\u4e00\\u4e9b\", \"\\u4e00\\u4e9b\", \"\\u4e00\\u4e9b\", \"\\u4e00\\u79cd\", \"\\u4e00\\u79cd\", \"\\u4e00\\u79cd\", \"\\u4e00\\u79cd\", \"\\u4e00\\u79cd\", \"\\u4e0d\\u540c\", \"\\u4e0d\\u540c\", \"\\u4e0d\\u540c\", \"\\u4e0d\\u540c\", \"\\u4e0d\\u540c\", \"\\u4e0d\\u662f\", \"\\u4e0d\\u662f\", \"\\u4e0d\\u662f\", \"\\u4e0d\\u662f\", \"\\u4e0d\\u662f\", \"\\u4e0d\\u8981\", \"\\u4e0d\\u8981\", \"\\u4e0d\\u8981\", \"\\u4e13\\u5229\", \"\\u4e13\\u5229\", \"\\u4e1a\\u52a1\", \"\\u4e1a\\u52a1\", \"\\u4e1a\\u52a1\", \"\\u4e1a\\u52a1\", \"\\u4e1a\\u52a1\", \"\\u4e1c\\u897f\", \"\\u4e1c\\u897f\", \"\\u4e1c\\u897f\", \"\\u4e2d\\u56fd\", \"\\u4e2d\\u56fd\", \"\\u4e2d\\u56fd\", \"\\u4e2d\\u56fd\", \"\\u4e3a\\u4ec0\\u4e48\", \"\\u4e3a\\u4ec0\\u4e48\", \"\\u4e3a\\u4ec0\\u4e48\", \"\\u4e3b\\u8981\", \"\\u4e3b\\u8981\", \"\\u4e3b\\u8981\", \"\\u4e3b\\u8981\", \"\\u4e3b\\u8981\", \"\\u4e8b\\u60c5\", \"\\u4e8b\\u60c5\", \"\\u4e8b\\u60c5\", \"\\u4e8b\\u60c5\", \"\\u4e92\\u8054\\u7f51\", \"\\u4e92\\u8054\\u7f51\", \"\\u4e92\\u8054\\u7f51\", \"\\u4e92\\u8054\\u7f51\", \"\\u4e92\\u8054\\u7f51\", \"\\u4ea7\\u4e1a\", \"\\u4ea7\\u4e1a\", \"\\u4ea7\\u4e1a\", \"\\u4ea7\\u4e1a\", \"\\u4ea7\\u54c1\", \"\\u4ea7\\u54c1\", \"\\u4ea7\\u54c1\", \"\\u4ea7\\u54c1\", \"\\u4ea7\\u54c1\", \"\\u4eba\\u53e3\", \"\\u4eba\\u53e3\", \"\\u4eba\\u53e3\", \"\\u4eba\\u5de5\\u667a\\u80fd\", \"\\u4eba\\u5de5\\u667a\\u80fd\", \"\\u4eba\\u5de5\\u667a\\u80fd\", \"\\u4eba\\u5de5\\u667a\\u80fd\", \"\\u4eba\\u6570\", \"\\u4eba\\u6570\", \"\\u4eba\\u6570\", \"\\u4eba\\u6570\", \"\\u4eba\\u7c7b\", \"\\u4eba\\u7c7b\", \"\\u4eba\\u7c7b\", \"\\u4eba\\u7c7b\", \"\\u4ebf\\u5143\", \"\\u4ebf\\u5143\", \"\\u4ebf\\u5143\", \"\\u4ebf\\u7f8e\\u5143\", \"\\u4ebf\\u7f8e\\u5143\", \"\\u4ebf\\u7f8e\\u5143\", \"\\u4ebf\\u7f8e\\u5143\", \"\\u4ec0\\u4e48\", \"\\u4ec0\\u4e48\", \"\\u4ec0\\u4e48\", \"\\u4ec0\\u4e48\", \"\\u4ec0\\u4e48\", \"\\u4ecb\\u7ecd\", \"\\u4ecb\\u7ecd\", \"\\u4ecb\\u7ecd\", \"\\u4ecb\\u7ecd\", \"\\u4ecb\\u7ecd\", \"\\u4ed6\\u4eec\", \"\\u4ed6\\u4eec\", \"\\u4ed6\\u4eec\", \"\\u4ed6\\u4eec\", \"\\u4ed6\\u4eec\", \"\\u4ee3\\u7406\", \"\\u4ee3\\u7406\", \"\\u4ee3\\u7406\", \"\\u4ef7\\u503c\", \"\\u4ef7\\u503c\", \"\\u4ef7\\u503c\", \"\\u4ef7\\u503c\", \"\\u4ef7\\u503c\", \"\\u4f01\\u4e1a\", \"\\u4f01\\u4e1a\", \"\\u4f01\\u4e1a\", \"\\u4f01\\u4e1a\", \"\\u4f01\\u4e1a\", \"\\u4f46\\u662f\", \"\\u4f46\\u662f\", \"\\u4f46\\u662f\", \"\\u4f46\\u662f\", \"\\u4f46\\u662f\", \"\\u4f53\\u7cfb\", \"\\u4f53\\u7cfb\", \"\\u4f53\\u7cfb\", \"\\u4f53\\u7cfb\", \"\\u4f53\\u7cfb\", \"\\u4f7f\\u7528\", \"\\u4f7f\\u7528\", \"\\u4f7f\\u7528\", \"\\u4f7f\\u7528\", \"\\u4f7f\\u7528\", \"\\u4f8b\\u5982\", \"\\u4f8b\\u5982\", \"\\u4f8b\\u5982\", \"\\u4f8b\\u5982\", \"\\u4fc3\\u8fdb\", \"\\u4fc3\\u8fdb\", \"\\u4fc3\\u8fdb\", \"\\u4fc3\\u8fdb\", \"\\u4fe1\\u606f\\u5316\", \"\\u4fe1\\u606f\\u5316\", \"\\u4fe1\\u606f\\u6280\\u672f\", \"\\u4fe1\\u606f\\u6280\\u672f\", \"\\u4fe1\\u7528\", \"\\u4fe1\\u7528\", \"\\u4fe1\\u7528\", \"\\u4fe1\\u7528\\u5361\", \"\\u4fe1\\u7528\\u5361\", \"\\u4fe1\\u7528\\u5361\", \"\\u4fe1\\u7528\\u5361\", \"\\u4fe1\\u7528\\u5361\", \"\\u5168\\u56fd\", \"\\u5168\\u56fd\", \"\\u5168\\u56fd\", \"\\u516c\\u53f8\", \"\\u516c\\u53f8\", \"\\u516c\\u53f8\", \"\\u516c\\u53f8\", \"\\u516c\\u53f8\", \"\\u5171\\u4eab\", \"\\u5171\\u4eab\", \"\\u5171\\u4eab\", \"\\u5171\\u4eab\", \"\\u5171\\u4eab\", \"\\u5173\\u6ce8\", \"\\u5173\\u6ce8\", \"\\u5173\\u6ce8\", \"\\u5173\\u6ce8\", \"\\u5173\\u6ce8\", \"\\u5176\\u4e2d\", \"\\u5176\\u4e2d\", \"\\u5176\\u4e2d\", \"\\u5176\\u4e2d\", \"\\u5176\\u4e2d\", \"\\u5176\\u5b9e\", \"\\u5176\\u5b9e\", \"\\u5176\\u5b9e\", \"\\u5176\\u5b9e\", \"\\u51b3\\u7b56\\u6811\", \"\\u51b3\\u7b56\\u6811\", \"\\u51fd\\u6570\", \"\\u5206\\u522b\", \"\\u5206\\u522b\", \"\\u5206\\u522b\", \"\\u5206\\u522b\", \"\\u5206\\u522b\", \"\\u5206\\u7c7b\", \"\\u5206\\u7c7b\", \"\\u5206\\u7c7b\", \"\\u5206\\u7c7b\", \"\\u521b\\u5efa\", \"\\u521b\\u5efa\", \"\\u521b\\u5efa\", \"\\u521b\\u5efa\", \"\\u521b\\u65b0\", \"\\u521b\\u65b0\", \"\\u521b\\u65b0\", \"\\u521b\\u65b0\", \"\\u52a0\\u5f3a\", \"\\u52a0\\u5f3a\", \"\\u52a0\\u5f3a\", \"\\u52a0\\u5f3a\", \"\\u52a0\\u5f3a\", \"\\u5317\\u4eac\", \"\\u5317\\u4eac\", \"\\u5317\\u4eac\", \"\\u5317\\u4eac\", \"\\u533b\\u7597\", \"\\u533b\\u7597\", \"\\u533b\\u7597\", \"\\u533b\\u7597\", \"\\u533b\\u7597\", \"\\u53c2\\u6570\", \"\\u53c2\\u6570\", \"\\u53d1\\u73b0\", \"\\u53d1\\u73b0\", \"\\u53d1\\u73b0\", \"\\u53d1\\u73b0\", \"\\u53d1\\u73b0\", \"\\u53d8\\u6210\", \"\\u53d8\\u6210\", \"\\u53d8\\u6210\", \"\\u53d8\\u91cf\", \"\\u53d8\\u91cf\", \"\\u53ef\\u80fd\", \"\\u53ef\\u80fd\", \"\\u53ef\\u80fd\", \"\\u53ef\\u80fd\", \"\\u53ef\\u80fd\", \"\\u53ef\\u89c6\\u5316\", \"\\u53ef\\u89c6\\u5316\", \"\\u53ef\\u89c6\\u5316\", \"\\u540c\\u6bd4\", \"\\u5411\\u91cf\", \"\\u5411\\u91cf\", \"\\u544a\\u8bc9\", \"\\u544a\\u8bc9\", \"\\u544a\\u8bc9\", \"\\u544a\\u8bc9\", \"\\u544a\\u8bc9\", \"\\u56de\\u5f52\", \"\\u56de\\u5f52\", \"\\u56de\\u5f52\", \"\\u56e0\\u4e3a\", \"\\u56e0\\u4e3a\", \"\\u56e0\\u4e3a\", \"\\u56e0\\u4e3a\", \"\\u56e0\\u4e3a\", \"\\u56fe\\u50cf\\u8bc6\\u522b\", \"\\u56fe\\u50cf\\u8bc6\\u522b\", \"\\u56fe\\u5f62\", \"\\u56fe\\u5f62\", \"\\u56fe\\u8868\", \"\\u56fe\\u8868\", \"\\u5730\\u533a\", \"\\u5730\\u533a\", \"\\u5730\\u533a\", \"\\u5730\\u533a\", \"\\u5730\\u533a\", \"\\u57ce\\u5e02\", \"\\u57ce\\u5e02\", \"\\u57ce\\u5e02\", \"\\u57ce\\u5e02\", \"\\u57fa\\u4e8e\", \"\\u57fa\\u4e8e\", \"\\u57fa\\u4e8e\", \"\\u57fa\\u4e8e\", \"\\u57fa\\u4e8e\", \"\\u589e\\u957f\", \"\\u589e\\u957f\", \"\\u589e\\u957f\", \"\\u589e\\u957f\", \"\\u589e\\u957f\", \"\\u5904\\u7406\", \"\\u5904\\u7406\", \"\\u5904\\u7406\", \"\\u5904\\u7406\", \"\\u5904\\u7406\", \"\\u591a\\u5c11\", \"\\u591a\\u5c11\", \"\\u591a\\u5c11\", \"\\u591a\\u5c11\", \"\\u5927\\u4f17\", \"\\u5927\\u4f17\", \"\\u5927\\u4f17\", \"\\u5927\\u4f17\", \"\\u5927\\u5bb6\", \"\\u5927\\u5bb6\", \"\\u5927\\u5bb6\", \"\\u5927\\u5bb6\", \"\\u5927\\u5bb6\", \"\\u5927\\u8111\", \"\\u5927\\u8111\", \"\\u5927\\u8111\", \"\\u5973\\u6027\", \"\\u5973\\u6027\", \"\\u5973\\u6027\", \"\\u5982\\u679c\", \"\\u5982\\u679c\", \"\\u5982\\u679c\", \"\\u5982\\u679c\", \"\\u5982\\u679c\", \"\\u5b58\\u50a8\", \"\\u5b58\\u50a8\", \"\\u5b58\\u50a8\", \"\\u5b58\\u50a8\", \"\\u5b66\\u4e60\", \"\\u5b66\\u4e60\", \"\\u5b66\\u4e60\", \"\\u5b66\\u4e60\", \"\\u5b66\\u4e60\", \"\\u5b69\\u5b50\", \"\\u5b89\\u5168\", \"\\u5b89\\u5168\", \"\\u5b89\\u5168\", \"\\u5b89\\u5168\", \"\\u5b8c\\u5584\", \"\\u5b8c\\u5584\", \"\\u5b8c\\u5584\", \"\\u5b8c\\u5584\", \"\\u5b8c\\u5584\", \"\\u5b9e\\u65bd\", \"\\u5b9e\\u65bd\", \"\\u5b9e\\u65bd\", \"\\u5b9e\\u65bd\", \"\\u5b9e\\u65bd\", \"\\u5b9e\\u73b0\", \"\\u5b9e\\u73b0\", \"\\u5b9e\\u73b0\", \"\\u5b9e\\u73b0\", \"\\u5b9e\\u73b0\", \"\\u5ba2\\u6237\", \"\\u5ba2\\u6237\", \"\\u5ba2\\u6237\", \"\\u5ba2\\u6237\", \"\\u5ba2\\u6237\", \"\\u5bb6\\u957f\", \"\\u5bb6\\u957f\", \"\\u5c31\\u662f\", \"\\u5c31\\u662f\", \"\\u5c31\\u662f\", \"\\u5c31\\u662f\", \"\\u5c31\\u662f\", \"\\u5de5\\u4e1a\", \"\\u5de5\\u4e1a\", \"\\u5de5\\u4e1a\", \"\\u5de5\\u4f5c\", \"\\u5de5\\u4f5c\", \"\\u5de5\\u4f5c\", \"\\u5de5\\u4f5c\", \"\\u5de5\\u4f5c\", \"\\u5de5\\u5177\", \"\\u5de5\\u5177\", \"\\u5de5\\u5177\", \"\\u5de5\\u5177\", \"\\u5de5\\u5177\", \"\\u5de8\\u5934\", \"\\u5de8\\u5934\", \"\\u5de8\\u5934\", \"\\u5df2\\u7ecf\", \"\\u5df2\\u7ecf\", \"\\u5df2\\u7ecf\", \"\\u5df2\\u7ecf\", \"\\u5df2\\u7ecf\", \"\\u5e02\\u573a\", \"\\u5e02\\u573a\", \"\\u5e02\\u573a\", \"\\u5e02\\u573a\", \"\\u5e02\\u573a\", \"\\u5e38\\u7528\", \"\\u5e38\\u7528\", \"\\u5e38\\u7528\", \"\\u5e38\\u7528\", \"\\u5e73\\u53f0\", \"\\u5e73\\u53f0\", \"\\u5e73\\u53f0\", \"\\u5e73\\u53f0\", \"\\u5e73\\u53f0\", \"\\u5e8f\\u5217\", \"\\u5e8f\\u5217\", \"\\u5e94\\u5f53\", \"\\u5e94\\u5f53\", \"\\u5e94\\u8be5\", \"\\u5e94\\u8be5\", \"\\u5e94\\u8be5\", \"\\u5e94\\u8be5\", \"\\u5e94\\u8be5\", \"\\u5efa\\u7acb\", \"\\u5efa\\u7acb\", \"\\u5efa\\u7acb\", \"\\u5efa\\u7acb\", \"\\u5efa\\u8bbe\", \"\\u5efa\\u8bbe\", \"\\u5efa\\u8bbe\", \"\\u5f00\\u5c55\", \"\\u5f00\\u5c55\", \"\\u5f00\\u5c55\", \"\\u5f00\\u5c55\", \"\\u5f00\\u5c55\", \"\\u5f00\\u653e\", \"\\u5f00\\u653e\", \"\\u5f00\\u653e\", \"\\u5f00\\u653e\", \"\\u5f00\\u653e\", \"\\u5f53\\u7136\", \"\\u5f53\\u7136\", \"\\u5f53\\u7136\", \"\\u5f53\\u7136\", \"\\u5f81\\u4fe1\", \"\\u5f81\\u4fe1\", \"\\u5f88\\u591a\", \"\\u5f88\\u591a\", \"\\u5f88\\u591a\", \"\\u5f88\\u591a\", \"\\u5fae\\u4fe1\", \"\\u5fae\\u4fe1\", \"\\u5fae\\u4fe1\", \"\\u5fae\\u4fe1\", \"\\u5fae\\u4fe1\", \"\\u5fae\\u8f6f\", \"\\u5fae\\u8f6f\", \"\\u5fae\\u8f6f\", \"\\u600e\\u4e48\", \"\\u600e\\u4e48\", \"\\u600e\\u4e48\", \"\\u60a3\\u8005\", \"\\u60a3\\u8005\", \"\\u60a3\\u8005\", \"\\u60c5\\u51b5\", \"\\u60c5\\u51b5\", \"\\u60c5\\u51b5\", \"\\u60c5\\u51b5\", \"\\u60c5\\u51b5\", \"\\u611f\\u77e5\", \"\\u611f\\u77e5\", \"\\u611f\\u77e5\", \"\\u6210\\u4e3a\", \"\\u6210\\u4e3a\", \"\\u6210\\u4e3a\", \"\\u6210\\u4e3a\", \"\\u6210\\u4e3a\", \"\\u6216\\u8005\", \"\\u6216\\u8005\", \"\\u6216\\u8005\", \"\\u6216\\u8005\", \"\\u6216\\u8005\", \"\\u6218\\u7565\", \"\\u6218\\u7565\", \"\\u6218\\u7565\", \"\\u6240\\u4ee5\", \"\\u6240\\u4ee5\", \"\\u6240\\u4ee5\", \"\\u6240\\u4ee5\", \"\\u6240\\u4ee5\", \"\\u6295\\u8d44\", \"\\u6295\\u8d44\", \"\\u6295\\u8d44\", \"\\u6295\\u8d44\", \"\\u6295\\u8d44\\u8005\", \"\\u6295\\u8d44\\u8005\", \"\\u6295\\u8d44\\u8005\", \"\\u62a5\\u544a\", \"\\u62a5\\u544a\", \"\\u62a5\\u544a\", \"\\u62a5\\u544a\", \"\\u62a5\\u544a\", \"\\u6392\\u540d\", \"\\u6392\\u540d\", \"\\u6392\\u540d\", \"\\u6392\\u540d\", \"\\u63a8\\u8fdb\", \"\\u63a8\\u8fdb\", \"\\u63a8\\u8fdb\", \"\\u6536\\u8d2d\", \"\\u6536\\u8d2d\", \"\\u6536\\u8d2d\", \"\\u6536\\u8d2d\", \"\\u653f\\u5e9c\", \"\\u653f\\u5e9c\", \"\\u653f\\u5e9c\", \"\\u653f\\u5e9c\", \"\\u653f\\u5e9c\", \"\\u6559\\u6388\", \"\\u6559\\u6388\", \"\\u6559\\u6388\", \"\\u6559\\u6388\", \"\\u6570\\u636e\\u5206\\u6790\", \"\\u6570\\u636e\\u5206\\u6790\", \"\\u6570\\u636e\\u5206\\u6790\", \"\\u6570\\u636e\\u5206\\u6790\", \"\\u6570\\u636e\\u5206\\u6790\", \"\\u6570\\u636e\\u5e93\", \"\\u6570\\u636e\\u5e93\", \"\\u6570\\u636e\\u5e93\", \"\\u6570\\u636e\\u5e93\", \"\\u6570\\u636e\\u5e93\", \"\\u6570\\u91cf\", \"\\u6570\\u91cf\", \"\\u6570\\u91cf\", \"\\u6570\\u91cf\", \"\\u6570\\u91cf\", \"\\u6587\\u672c\", \"\\u6587\\u672c\", \"\\u6587\\u672c\", \"\\u6587\\u672c\", \"\\u65b9\\u5f0f\", \"\\u65b9\\u5f0f\", \"\\u65b9\\u5f0f\", \"\\u65b9\\u5f0f\", \"\\u65b9\\u5f0f\", \"\\u65b9\\u6cd5\", \"\\u65b9\\u6cd5\", \"\\u65b9\\u6cd5\", \"\\u65b9\\u6cd5\", \"\\u65b9\\u6cd5\", \"\\u65b9\\u9762\", \"\\u65b9\\u9762\", \"\\u65b9\\u9762\", \"\\u65b9\\u9762\", \"\\u65b9\\u9762\", \"\\u65c5\\u6e38\", \"\\u65c5\\u6e38\", \"\\u65f6\\u5019\", \"\\u65f6\\u5019\", \"\\u65f6\\u5019\", \"\\u65f6\\u5019\", \"\\u65f6\\u95f4\", \"\\u65f6\\u95f4\", \"\\u65f6\\u95f4\", \"\\u65f6\\u95f4\", \"\\u65f6\\u95f4\", \"\\u667a\\u6167\", \"\\u667a\\u6167\", \"\\u667a\\u6167\", \"\\u667a\\u6167\", \"\\u667a\\u80fd\", \"\\u667a\\u80fd\", \"\\u667a\\u80fd\", \"\\u667a\\u80fd\", \"\\u6708\\u4efd\", \"\\u6708\\u4efd\", \"\\u6708\\u4efd\", \"\\u6708\\u4efd\", \"\\u6709\\u4eba\", \"\\u6709\\u4eba\", \"\\u6709\\u4eba\", \"\\u670d\\u52a1\", \"\\u670d\\u52a1\", \"\\u670d\\u52a1\", \"\\u670d\\u52a1\", \"\\u670d\\u52a1\", \"\\u671f\\u95f4\", \"\\u671f\\u95f4\", \"\\u671f\\u95f4\", \"\\u671f\\u95f4\", \"\\u671f\\u95f4\", \"\\u672a\\u6765\", \"\\u672a\\u6765\", \"\\u672a\\u6765\", \"\\u672a\\u6765\", \"\\u672a\\u6765\", \"\\u673a\\u5668\", \"\\u673a\\u5668\", \"\\u673a\\u5668\", \"\\u673a\\u5668\", \"\\u673a\\u5668\\u4eba\", \"\\u673a\\u5668\\u4eba\", \"\\u673a\\u5668\\u4eba\", \"\\u673a\\u5668\\u4eba\", \"\\u67e5\\u8be2\", \"\\u67e5\\u8be2\", \"\\u67e5\\u8be2\", \"\\u67e5\\u8be2\", \"\\u6837\\u672c\", \"\\u6837\\u672c\", \"\\u6837\\u672c\", \"\\u6837\\u672c\", \"\\u6848\\u4ef6\", \"\\u6848\\u4ef6\", \"\\u68af\\u5ea6\", \"\\u68af\\u5ea6\", \"\\u68af\\u5ea6\", \"\\u68c0\\u67e5\", \"\\u68c0\\u67e5\", \"\\u68c0\\u67e5\", \"\\u68c0\\u67e5\", \"\\u68c0\\u7d22\", \"\\u68c0\\u7d22\", \"\\u68c0\\u7d22\", \"\\u68c0\\u7d22\", \"\\u6a21\\u578b\", \"\\u6a21\\u578b\", \"\\u6a21\\u578b\", \"\\u6a21\\u578b\", \"\\u6bd4\\u5982\", \"\\u6bd4\\u5982\", \"\\u6bd4\\u5982\", \"\\u6bd4\\u5982\", \"\\u6bd4\\u5982\\u8bf4\", \"\\u6bd4\\u5982\\u8bf4\", \"\\u6bd4\\u5982\\u8bf4\", \"\\u6c14\\u8c61\", \"\\u6ca1\\u6709\", \"\\u6ca1\\u6709\", \"\\u6ca1\\u6709\", \"\\u6ca1\\u6709\", \"\\u6ca1\\u6709\", \"\\u6cbb\\u7406\", \"\\u6cd5\\u9662\", \"\\u6df1\\u5ea6\", \"\\u6df1\\u5ea6\", \"\\u6df1\\u5ea6\", \"\\u6df1\\u5ea6\", \"\\u6df1\\u5ea6\", \"\\u7279\\u5f81\", \"\\u7279\\u5f81\", \"\\u7279\\u5f81\", \"\\u7279\\u5f81\", \"\\u73b0\\u5728\", \"\\u73b0\\u5728\", \"\\u73b0\\u5728\", \"\\u73b0\\u5728\", \"\\u73b0\\u5728\", \"\\u751f\\u4ea7\", \"\\u751f\\u4ea7\", \"\\u751f\\u4ea7\", \"\\u751f\\u4ea7\", \"\\u751f\\u4ea7\", \"\\u751f\\u6001\", \"\\u751f\\u6001\", \"\\u751f\\u6001\", \"\\u751f\\u7269\", \"\\u751f\\u7269\", \"\\u751f\\u7269\", \"\\u751f\\u7269\", \"\\u751f\\u7269\", \"\\u7528\\u4e8e\", \"\\u7528\\u4e8e\", \"\\u7528\\u4e8e\", \"\\u7528\\u4e8e\", \"\\u7528\\u6237\", \"\\u7528\\u6237\", \"\\u7528\\u6237\", \"\\u7528\\u6237\", \"\\u7528\\u6237\", \"\\u7533\\u8bf7\", \"\\u7533\\u8bf7\", \"\\u7533\\u8bf7\", \"\\u7533\\u8bf7\", \"\\u7535\\u5b50\", \"\\u7535\\u5b50\", \"\\u7535\\u5b50\", \"\\u767e\\u5ea6\", \"\\u767e\\u5ea6\", \"\\u767e\\u5ea6\", \"\\u767e\\u5ea6\", \"\\u767e\\u5ea6\", \"\\u7684\\u8bdd\", \"\\u7684\\u8bdd\", \"\\u7684\\u8bdd\", \"\\u76d1\\u7763\", \"\\u76d1\\u7763\", \"\\u76d1\\u7763\", \"\\u76d1\\u7763\", \"\\u76d1\\u7ba1\", \"\\u76d1\\u7ba1\", \"\\u76ee\\u524d\", \"\\u76ee\\u524d\", \"\\u76ee\\u524d\", \"\\u76ee\\u524d\", \"\\u76ee\\u524d\", \"\\u76f8\\u5173\", \"\\u76f8\\u5173\", \"\\u76f8\\u5173\", \"\\u76f8\\u5173\", \"\\u76f8\\u5173\", \"\\u770b\\u5230\", \"\\u770b\\u5230\", \"\\u770b\\u5230\", \"\\u770b\\u5230\", \"\\u770b\\u5230\", \"\\u771f\\u7684\", \"\\u771f\\u7684\", \"\\u771f\\u7684\", \"\\u771f\\u7684\", \"\\u77e5\\u9053\", \"\\u77e5\\u9053\", \"\\u77e5\\u9053\", \"\\u77e5\\u9053\", \"\\u77e5\\u9053\", \"\\u77e9\\u9635\", \"\\u77e9\\u9635\", \"\\u7814\\u53d1\", \"\\u7814\\u53d1\", \"\\u7814\\u53d1\", \"\\u7814\\u53d1\", \"\\u7814\\u7a76\", \"\\u7814\\u7a76\", \"\\u7814\\u7a76\", \"\\u7814\\u7a76\", \"\\u7814\\u7a76\", \"\\u795e\\u7ecf\\u7f51\\u7edc\", \"\\u795e\\u7ecf\\u7f51\\u7edc\", \"\\u79d1\\u6280\", \"\\u79d1\\u6280\", \"\\u79d1\\u6280\", \"\\u79d1\\u6280\", \"\\u79d1\\u6280\", \"\\u79d1\\u7814\", \"\\u79d1\\u7814\", \"\\u79d1\\u7814\", \"\\u79d1\\u7814\", \"\\u7b97\\u6cd5\", \"\\u7b97\\u6cd5\", \"\\u7b97\\u6cd5\", \"\\u7b97\\u6cd5\", \"\\u7ba1\\u7406\", \"\\u7ba1\\u7406\", \"\\u7ba1\\u7406\", \"\\u7ba1\\u7406\", \"\\u7ba1\\u7406\", \"\\u7cbe\\u51c6\", \"\\u7cbe\\u51c6\", \"\\u7cbe\\u51c6\", \"\\u7cbe\\u51c6\", \"\\u7cbe\\u51c6\", \"\\u7cfb\\u7edf\", \"\\u7cfb\\u7edf\", \"\\u7cfb\\u7edf\", \"\\u7cfb\\u7edf\", \"\\u7cfb\\u7edf\", \"\\u7d22\\u5f15\", \"\\u7ebf\\u6027\", \"\\u7ebf\\u6027\", \"\\u7ebf\\u6027\", \"\\u7ecf\\u8425\", \"\\u7ecf\\u8425\", \"\\u7ecf\\u8425\", \"\\u7ed3\\u679c\", \"\\u7ed3\\u679c\", \"\\u7ed3\\u679c\", \"\\u7ed3\\u679c\", \"\\u7ed3\\u679c\", \"\\u7f16\\u7801\", \"\\u7f16\\u7801\", \"\\u7f51\\u7edc\", \"\\u7f51\\u7edc\", \"\\u7f51\\u7edc\", \"\\u7f51\\u7edc\", \"\\u7f51\\u7edc\", \"\\u7f8e\\u56fd\", \"\\u7f8e\\u56fd\", \"\\u7f8e\\u56fd\", \"\\u7f8e\\u56fd\", \"\\u7f8e\\u56fd\", \"\\u8001\\u5e08\", \"\\u8001\\u5e08\", \"\\u8001\\u5e08\", \"\\u8001\\u5e08\", \"\\u805a\\u7c7b\", \"\\u805a\\u7c7b\", \"\\u80fd\\u529b\", \"\\u80fd\\u529b\", \"\\u80fd\\u529b\", \"\\u80fd\\u529b\", \"\\u80fd\\u529b\", \"\\u80fd\\u591f\", \"\\u80fd\\u591f\", \"\\u80fd\\u591f\", \"\\u80fd\\u591f\", \"\\u80fd\\u591f\", \"\\u81ea\\u52a8\\u5316\", \"\\u81ea\\u52a8\\u5316\", \"\\u81ea\\u52a8\\u5316\", \"\\u81ea\\u52a8\\u5316\", \"\\u81ea\\u5df1\", \"\\u81ea\\u5df1\", \"\\u81ea\\u5df1\", \"\\u81ea\\u5df1\", \"\\u81ea\\u5df1\", \"\\u81ea\\u7136\\u8bed\\u8a00\", \"\\u81ea\\u7136\\u8bed\\u8a00\", \"\\u81ea\\u7136\\u8bed\\u8a00\", \"\\u8425\\u9500\", \"\\u8425\\u9500\", \"\\u8425\\u9500\", \"\\u8425\\u9500\", \"\\u8425\\u9500\", \"\\u884c\\u4e1a\", \"\\u884c\\u4e1a\", \"\\u884c\\u4e1a\", \"\\u884c\\u4e1a\", \"\\u884c\\u4e1a\", \"\\u89c9\\u5f97\", \"\\u89c9\\u5f97\", \"\\u89c9\\u5f97\", \"\\u8ba1\\u7b97\", \"\\u8ba1\\u7b97\", \"\\u8ba1\\u7b97\", \"\\u8ba1\\u7b97\", \"\\u8ba1\\u7b97\", \"\\u8ba1\\u7b97\\u673a\", \"\\u8ba1\\u7b97\\u673a\", \"\\u8ba1\\u7b97\\u673a\", \"\\u8ba1\\u7b97\\u673a\", \"\\u8ba4\\u77e5\", \"\\u8ba4\\u77e5\", \"\\u8ba4\\u77e5\", \"\\u8ba4\\u77e5\", \"\\u8bad\\u7ec3\", \"\\u8bad\\u7ec3\", \"\\u8bad\\u7ec3\", \"\\u8bc6\\u522b\", \"\\u8bc6\\u522b\", \"\\u8bc6\\u522b\", \"\\u8bc6\\u522b\", \"\\u8bc6\\u522b\", \"\\u8bca\\u65ad\", \"\\u8bca\\u65ad\", \"\\u8bca\\u65ad\", \"\\u8bca\\u65ad\", \"\\u8bed\\u8a00\", \"\\u8bed\\u8a00\", \"\\u8bed\\u8a00\", \"\\u8bed\\u8a00\", \"\\u8bed\\u8a00\", \"\\u8bed\\u97f3\", \"\\u8bed\\u97f3\", \"\\u8bef\\u5dee\", \"\\u8c37\\u6b4c\", \"\\u8c37\\u6b4c\", \"\\u8c37\\u6b4c\", \"\\u8c37\\u6b4c\", \"\\u8d1d\\u53f6\\u65af\", \"\\u8d1d\\u53f6\\u65af\", \"\\u8d44\\u6e90\", \"\\u8d44\\u6e90\", \"\\u8d44\\u6e90\", \"\\u8d44\\u6e90\", \"\\u8d44\\u6e90\", \"\\u8d85\\u8fc7\", \"\\u8d85\\u8fc7\", \"\\u8d85\\u8fc7\", \"\\u8d85\\u8fc7\", \"\\u8d85\\u8fc7\", \"\\u8f66\\u8f86\", \"\\u8f66\\u8f86\", \"\\u8f66\\u8f86\", \"\\u8f66\\u8f86\", \"\\u8f93\\u5165\", \"\\u8f93\\u5165\", \"\\u8f93\\u5165\", \"\\u8f93\\u5165\", \"\\u8f93\\u51fa\", \"\\u8f93\\u51fa\", \"\\u8f93\\u51fa\", \"\\u8f93\\u51fa\", \"\\u8fd0\\u8425\", \"\\u8fd0\\u8425\", \"\\u8fd0\\u8425\", \"\\u8fd0\\u8425\", \"\\u8fd8\\u662f\", \"\\u8fd8\\u662f\", \"\\u8fd8\\u662f\", \"\\u8fd8\\u662f\", \"\\u8fd8\\u662f\", \"\\u8fd9\\u4e2a\", \"\\u8fd9\\u4e2a\", \"\\u8fd9\\u4e2a\", \"\\u8fd9\\u4e2a\", \"\\u8fd9\\u4e2a\", \"\\u8fd9\\u4e48\", \"\\u8fd9\\u4e48\", \"\\u8fd9\\u4e48\", \"\\u8fd9\\u6837\", \"\\u8fd9\\u6837\", \"\\u8fd9\\u6837\", \"\\u8fd9\\u6837\", \"\\u8fd9\\u6837\", \"\\u90a3\\u4e48\", \"\\u90a3\\u4e48\", \"\\u90a3\\u4e48\", \"\\u90a3\\u4e48\", \"\\u90a3\\u4e48\", \"\\u91c7\\u96c6\", \"\\u91c7\\u96c6\", \"\\u91c7\\u96c6\", \"\\u91c7\\u96c6\", \"\\u91c7\\u96c6\", \"\\u91d1\\u878d\", \"\\u91d1\\u878d\", \"\\u91d1\\u878d\", \"\\u91d1\\u878d\", \"\\u9500\\u91cf\", \"\\u9500\\u91cf\", \"\\u9500\\u91cf\", \"\\u9500\\u91cf\", \"\\u9605\\u8bfb\", \"\\u9605\\u8bfb\", \"\\u9605\\u8bfb\", \"\\u9605\\u8bfb\", \"\\u9605\\u8bfb\", \"\\u968f\\u673a\", \"\\u968f\\u673a\", \"\\u9700\\u6c42\", \"\\u9700\\u6c42\", \"\\u9700\\u6c42\", \"\\u9700\\u6c42\", \"\\u9700\\u6c42\", \"\\u975e\\u5e38\", \"\\u975e\\u5e38\", \"\\u975e\\u5e38\", \"\\u975e\\u5e38\", \"\\u975e\\u5e38\", \"\\u9769\\u547d\", \"\\u9769\\u547d\", \"\\u9769\\u547d\", \"\\u9879\\u76ee\", \"\\u9879\\u76ee\", \"\\u9879\\u76ee\", \"\\u9879\\u76ee\", \"\\u9879\\u76ee\", \"\\u9884\\u6d4b\", \"\\u9884\\u6d4b\", \"\\u9884\\u6d4b\", \"\\u9884\\u6d4b\", \"\\u9884\\u6d4b\", \"\\u9886\\u57df\", \"\\u9886\\u57df\", \"\\u9886\\u57df\", \"\\u9886\\u57df\", \"\\u9886\\u57df\", \"\\u9a7e\\u9a76\", \"\\u9a7e\\u9a76\", \"\\u9a7e\\u9a76\", \"\\u9a7e\\u9a76\"]}, \"R\": 30, \"lambda.step\": 0.01, \"plot.opts\": {\"xlab\": \"PC1\", \"ylab\": \"PC2\"}, \"topic.order\": [1, 3, 2, 5, 4]};\n",
              "\n",
              "function LDAvis_load_lib(url, callback){\n",
              "  var s = document.createElement('script');\n",
              "  s.src = url;\n",
              "  s.async = true;\n",
              "  s.onreadystatechange = s.onload = callback;\n",
              "  s.onerror = function(){console.warn(\"failed to load library \" + url);};\n",
              "  document.getElementsByTagName(\"head\")[0].appendChild(s);\n",
              "}\n",
              "\n",
              "if(typeof(LDAvis) !== \"undefined\"){\n",
              "   // already loaded: just create the visualization\n",
              "   !function(LDAvis){\n",
              "       new LDAvis(\"#\" + \"ldavis_el1731403366011477284769390382\", ldavis_el1731403366011477284769390382_data);\n",
              "   }(LDAvis);\n",
              "}else if(typeof define === \"function\" && define.amd){\n",
              "   // require.js is available: use it to load d3/LDAvis\n",
              "   require.config({paths: {d3: \"https://d3js.org/d3.v5\"}});\n",
              "   require([\"d3\"], function(d3){\n",
              "      window.d3 = d3;\n",
              "      LDAvis_load_lib(\"https://cdn.jsdelivr.net/gh/bmabey/pyLDAvis@3.3.1/pyLDAvis/js/ldavis.v3.0.0.js\", function(){\n",
              "        new LDAvis(\"#\" + \"ldavis_el1731403366011477284769390382\", ldavis_el1731403366011477284769390382_data);\n",
              "      });\n",
              "    });\n",
              "}else{\n",
              "    // require.js not available: dynamically load d3 & LDAvis\n",
              "    LDAvis_load_lib(\"https://d3js.org/d3.v5.js\", function(){\n",
              "         LDAvis_load_lib(\"https://cdn.jsdelivr.net/gh/bmabey/pyLDAvis@3.3.1/pyLDAvis/js/ldavis.v3.0.0.js\", function(){\n",
              "                 new LDAvis(\"#\" + \"ldavis_el1731403366011477284769390382\", ldavis_el1731403366011477284769390382_data);\n",
              "            })\n",
              "         });\n",
              "}\n",
              "</script>"
            ],
            "text/plain": [
              "PreparedData(topic_coordinates=              x         y  topics  cluster       Freq\n",
              "topic                                                \n",
              "0      0.149635  0.021451       1        1  25.852071\n",
              "2     -0.100942  0.102186       2        1  25.798362\n",
              "1      0.127037 -0.112524       3        1  21.632325\n",
              "4     -0.005510  0.118440       4        1  14.625269\n",
              "3     -0.170219 -0.129553       5        1  12.091972, topic_info=     Term         Freq        Total Category  logprob  loglift\n",
              "122  人工智能  2771.000000  2771.000000  Default  30.0000  30.0000\n",
              "364    学习  4194.000000  4194.000000  Default  29.0000  29.0000\n",
              "148    企业  3220.000000  3220.000000  Default  28.0000  28.0000\n",
              "615    机器  2178.000000  2178.000000  Default  27.0000  27.0000\n",
              "586    智能  1450.000000  1450.000000  Default  26.0000  26.0000\n",
              "..    ...          ...          ...      ...      ...      ...\n",
              "458    微信   266.676300   493.258458   Topic5  -5.2453   1.4976\n",
              "845    行业   346.365488  1589.176433   Topic5  -4.9839   0.5892\n",
              "560    数量   259.832297   467.563261   Topic5  -5.2713   1.5251\n",
              "97     主要   273.202890  1246.241126   Topic5  -5.2211   0.5950\n",
              "501    报告   257.056074   617.836739   Topic5  -5.2821   1.2357\n",
              "\n",
              "[310 rows x 6 columns], token_table=      Topic      Freq Term\n",
              "term                      \n",
              "0         1  0.027158   00\n",
              "0         5  0.969939   00\n",
              "1         1  0.186738   10\n",
              "1         2  0.044899   10\n",
              "1         3  0.108165   10\n",
              "...     ...       ...  ...\n",
              "992       5  0.024959   领域\n",
              "996       1  0.023137   驾驶\n",
              "996       3  0.069412   驾驶\n",
              "996       4  0.896569   驾驶\n",
              "996       5  0.005784   驾驶\n",
              "\n",
              "[1027 rows x 3 columns], R=30, lambda_step=0.01, plot_opts={'xlab': 'PC1', 'ylab': 'PC2'}, topic_order=[1, 3, 2, 5, 4])"
            ]
          },
          "metadata": {},
          "execution_count": 27
        }
      ]
    }
  ]
}