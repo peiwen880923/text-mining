{
 "cells": [
  {
   "cell_type": "code",
   "execution_count": 3,
   "id": "a905935b",
   "metadata": {},
   "outputs": [
    {
     "name": "stdout",
     "output_type": "stream",
     "text": [
      "預設： 我來|到|台灣|新北市|的|淡江|大學\n",
      "全關閉： 我|來|到|台|灣|新|北|市|的|淡江|大|學\n",
      "全關閉： 我|來|到|台|灣|新|北市|的|淡江|大|學\n"
     ]
    }
   ],
   "source": [
    "import jieba\n",
    "text='我來到台灣新北市的淡江大學'\n",
    "print('預設：','|'.join(jieba.cut(text,cut_all=False,HMM=True)))\n",
    "print('全關閉：','|'.join(jieba.cut(text,cut_all=False,HMM=False)))\n",
    "print('全關閉：','|'.join(jieba.cut(text,cut_all=True,HMM=True)))"
   ]
  },
  {
   "cell_type": "code",
   "execution_count": 4,
   "id": "e08b2279",
   "metadata": {
    "scrolled": true
   },
   "outputs": [
    {
     "name": "stdout",
     "output_type": "stream",
     "text": [
      "預設 總統|蔡|英文|論文風|波延燒|後|,|最新|民調|今日|出爐|！|據親|藍民調|公布|結果|,|蔡|英文|支持|度|45%|,|遙遙|領先|韓國瑜|的|33%|,|兩人|差距|擴大到|12|個|百分|點|。|顯示|論文門|風波|,|並未重|創小英|聲望|。\n"
     ]
    }
   ],
   "source": [
    "text='總統蔡英文論文風波延燒後,最新民調今日出爐！據親藍民調公布結果,蔡英文支持度45%,遙遙領先韓國瑜的33%,兩人差距擴大到12個百分點。顯示論文門風波,並未重創小英聲望。'\n",
    "print('預設','|'.join(jieba.cut(text,cut_all=False,HMM=True)))"
   ]
  },
  {
   "cell_type": "code",
   "execution_count": 5,
   "id": "edc8cc42",
   "metadata": {},
   "outputs": [
    {
     "name": "stdout",
     "output_type": "stream",
     "text": [
      "預設 總統|蔡英文|論文風|波延燒|後|,|最新|民調|今日|出爐|！|據親|藍民調|公布|結果|,|蔡英文|支持|度|45%|,|遙遙|領先|韓國瑜|的|33%|,|兩人|差距|擴大到|12|個|百分|點|。|顯示|論文門|風波|,|並未重|創小英|聲望|。\n"
     ]
    }
   ],
   "source": [
    "jieba.add_word(\"蔡英文\")\n",
    "print('預設','|'.join(jieba.cut(text,cut_all=False,HMM=True)))"
   ]
  },
  {
   "cell_type": "code",
   "execution_count": 6,
   "id": "4e1663c2",
   "metadata": {},
   "outputs": [
    {
     "name": "stdout",
     "output_type": "stream",
     "text": [
      "總統 n\n",
      "蔡英文 x\n",
      "論文 nz\n",
      "風波 n\n",
      "延燒 v\n",
      "後 nr\n",
      ", x\n",
      "最新 d\n",
      "民調 n\n",
      "今日 t\n",
      "出爐 v\n",
      "！ x\n",
      "據 p\n",
      "親藍民 n\n",
      "調 vn\n",
      "公布 v\n",
      "結果 n\n",
      ", x\n",
      "蔡英文 x\n",
      "支持 v\n",
      "度 q\n",
      "45 m\n",
      "% x\n",
      ", x\n",
      "遙遙領先 l\n",
      "韓國瑜 nr\n",
      "的 uj\n",
      "33 m\n",
      "% x\n",
      ", x\n",
      "兩 m\n",
      "人 n\n",
      "差距 n\n",
      "擴大 v\n",
      "到 v\n",
      "12 m\n",
      "個 m\n",
      "百分 m\n",
      "點 zg\n",
      "。 x\n",
      "顯示 v\n",
      "論 v\n",
      "文門 n\n",
      "風波 n\n",
      ", x\n",
      "並未 d\n",
      "重創 v\n",
      "小英聲 nr\n",
      "望 v\n",
      "。 x\n"
     ]
    }
   ],
   "source": [
    "import jieba.posseg as pseg\n",
    "words=pseg.cut(text)\n",
    "for word,flag in words:\n",
    "    print(word,flag)"
   ]
  },
  {
   "cell_type": "code",
   "execution_count": 7,
   "id": "487f874d",
   "metadata": {},
   "outputs": [
    {
     "name": "stdout",
     "output_type": "stream",
     "text": [
      "['蔡英文', '總統', '論文風']\n"
     ]
    }
   ],
   "source": [
    "import jieba.analyse\n",
    "tags=jieba.analyse.extract_tags(text,topK=3)\n",
    "print(tags)"
   ]
  }
 ],
 "metadata": {
  "kernelspec": {
   "display_name": "Python 3",
   "language": "python",
   "name": "python3"
  },
  "language_info": {
   "codemirror_mode": {
    "name": "ipython",
    "version": 3
   },
   "file_extension": ".py",
   "mimetype": "text/x-python",
   "name": "python",
   "nbconvert_exporter": "python",
   "pygments_lexer": "ipython3",
   "version": "3.8.8"
  }
 },
 "nbformat": 4,
 "nbformat_minor": 5
}
